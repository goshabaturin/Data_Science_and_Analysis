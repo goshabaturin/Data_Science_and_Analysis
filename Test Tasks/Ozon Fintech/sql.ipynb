{
 "cells": [
  {
   "cell_type": "markdown",
   "metadata": {},
   "source": [
    "# Оглавление <a class='anchor' id='root'>\n",
    "- [Задача 1](#1)\n",
    "    - [Формулировка](#1.1)\n",
    "    - [Решение](#1.2)\n",
    "- [Задача 2](#2)\n",
    "    - [Формулировка](#2.1)\n",
    "    - [Решение](#2.2)\n",
    "        - [Задание 1](#2.2.1)\n",
    "        - [Задание 2](#2.2.2)"
   ]
  },
  {
   "cell_type": "markdown",
   "metadata": {},
   "source": [
    "# Задача 1 <a class='anchor' id='1'>\n",
    "\n"
   ]
  },
  {
   "cell_type": "markdown",
   "metadata": {},
   "source": [
    "## Формулировка <a class='anchor' id='1.1'>"
   ]
  },
  {
   "cell_type": "markdown",
   "metadata": {},
   "source": [
    "Table: Transactions\n",
    "|Client_id\t|Report_date\t|Txn_amount|\n",
    "|-----------|---------------|---------|\n",
    "|123\t    |2017.01.01\t    |50000|\n",
    "\n",
    "\n",
    "Table: Rates\n",
    "|Report_date |Ccy_code\t|CCy_rate |\n",
    "|------------|----------|---------|\n",
    "|2016.12.30\t |840\t\t|60,58    |\n",
    "|2017.01.09\t |840\t\t|61,01    |\n",
    "\n",
    "Напишите sql запрос, который будет переводить сумму транзакций в usd (ccy_code = 840) с учетом того, что в таблице rates данные только за рабочие дни. Транзакции, совершенные в выходные, пересчитываются по курсу последнего рабочего дня перед праздником/выходным. Результат: Клиент, дата, сумма операций в usd."
   ]
  },
  {
   "cell_type": "markdown",
   "metadata": {},
   "source": [
    "[К оглавлению](#root)"
   ]
  },
  {
   "cell_type": "markdown",
   "metadata": {},
   "source": [
    "## Решение <a class='anchor' id='1.2'>"
   ]
  },
  {
   "cell_type": "markdown",
   "metadata": {},
   "source": [
    "Если в Sqlite3"
   ]
  },
  {
   "cell_type": "code",
   "execution_count": null,
   "metadata": {},
   "outputs": [],
   "source": [
    "CREATE TABLE Transactions (Client_id INT, Report_date date, Txn_amount INT);\n",
    "INSERT INTO Transactions VALUES (123, '2017-01-01', 50000),  (123, '2017-01-09', 50000);\n",
    "CREATE TABLE Rates (Report_date date, Ccy_code INT, CCy_rate FLOAT);\n",
    "INSERT INTO Rates VALUES ('2016-12-30', 840, 60.58), ('2017-01-09', 840, 61.01);\n",
    "\n",
    "SELECT \n",
    "t.Client_id,\n",
    "t.Report_date,\n",
    "t.Txn_amount / (SELECT \n",
    "                    r.CCy_rate \n",
    "                FROM Rates r \n",
    "                WHERE \n",
    "                    r.Report_date<=t.Report_date \n",
    "                ORDER BY \n",
    "                    r.Report_date DESC \n",
    "                LIMIT (1)\n",
    "                ) AS usd_sum\n",
    "FROM Transactions t;"
   ]
  },
  {
   "cell_type": "markdown",
   "metadata": {},
   "source": [
    "Если в ClickHouse"
   ]
  },
  {
   "cell_type": "code",
   "execution_count": null,
   "metadata": {},
   "outputs": [],
   "source": [
    "CREATE TABLE RznUps.Rates (`Report_date` DATE, `Ccy_code` INT, `CCy_rate` FLOAT) ENGINE = MergeTree() PARTITION BY `Report_date` ORDER BY `Report_date`;\n",
    "INSERT INTO RznUps.Rates (*) VALUES ('2016-12-30', 840, 60.58), ('2017-01-09', 840, 61.01);\n",
    "CREATE TABLE RznUps.Transactions (`Client_id` INT, `Report_date` DATE, `Txn_amount` INT) ENGINE = MergeTree() PARTITION BY `Report_date` ORDER BY `Report_date`;\n",
    "INSERT INTO RznUps.Transactions (*) VALUES (123, '2017-01-01', 50000); \n",
    "INSERT INTO RznUps.Transactions (*) VALUES (123, '2017-01-09', 50000);\n",
    "\n",
    "SELECT\n",
    "\tt.Client_id `client_id`,\n",
    "\tt.Report_date `date`,\n",
    "\tt.Txn_amount/r.CCy_rate `usd`\n",
    "FROM (SELECT \n",
    "\t\t\t1 val, \n",
    "\t\t\tClient_id, \n",
    "\t\t\tTxn_amount, \n",
    "\t\t\tReport_date \n",
    "\t\tFROM RznUps.Transactions) t\n",
    "asof LEft JOIN (SELECT \n",
    "\t\t\t\t\t1 val, \n",
    "\t\t\t\t\tReport_date, \n",
    "\t\t\t\t\tCCy_rate, \n",
    "\t\t\t\t\tCcy_code  \n",
    "\t\t\t\tFROM RznUps.Rates) r \n",
    "ON r.val = t.val and r.Report_date <= t.Report_date"
   ]
  },
  {
   "cell_type": "markdown",
   "metadata": {},
   "source": [
    "[К оглавлению](#root)"
   ]
  },
  {
   "cell_type": "markdown",
   "metadata": {},
   "source": [
    "# Задача 2 <a class='anchor' id='2'>"
   ]
  },
  {
   "cell_type": "markdown",
   "metadata": {},
   "source": [
    "## Формулировка <a class='anchor' id='2.1'>"
   ]
  },
  {
   "cell_type": "markdown",
   "metadata": {},
   "source": [
    "Table: VSP_oper_data\n",
    "|Client_id\t|Report_date\t|VSP_Number\t|Txn_type\t|Txn_amount|\n",
    "|-----------|---------------|-----------|-----------|----------|\n",
    "|1233455\t|2017.05.02\t    |1234/0123\t|debit\t    |10000     |\n",
    "\n",
    "В таблице VSP_oper_data txn_type принимает значения debit, credit\n",
    "Задание: \n",
    "- напишите sql запрос, который для каждого клиента выводит сумму debit, credit операций и последнее посещенное VSP по месяцам. Результат должен содержать поля: Client_id, Report_date\tDebit_amount, Credit_amount, Last_VSP;\n",
    "- напишите sql запрос, который для каждого клиента выведет долю debit операций клиента к debit операциям всех клиентов по месяцам. Результат должен содержать поля: Client_id, Report_date, Ratio.\n"
   ]
  },
  {
   "cell_type": "markdown",
   "metadata": {},
   "source": [
    "[К оглавлению](#root)"
   ]
  },
  {
   "cell_type": "markdown",
   "metadata": {},
   "source": [
    "## Решение <a class='anchor' id='2.2'>"
   ]
  },
  {
   "cell_type": "markdown",
   "metadata": {},
   "source": [
    "### Задание 1 <a class='anchor' id='2.2.1'>"
   ]
  },
  {
   "cell_type": "markdown",
   "metadata": {},
   "source": [
    "Если писать в ClickHouse"
   ]
  },
  {
   "cell_type": "code",
   "execution_count": null,
   "metadata": {},
   "outputs": [],
   "source": [
    "CREATE TABLE RznUps.VSP_oper_data (`Client_id` INT, `Report_date` DATE, `VSP_Number` String, `Tnx_type` String, `Txn_amount` INT) ENGINE = MergeTree() PARTITION BY `Report_date` ORDER BY `Report_date`;\n",
    "INSERT INTO RznUps.VSP_oper_data (*) VALUES (123, '2017-01-01', '1234/0123', 'debit','10000'), \n",
    "(123, '2017-01-03', '1234/0125', 'debit','10000'), \n",
    "(231, '2017-01-03', '1234/0125', 'debit','10000'), \n",
    "(123, '2017-01-03', '1234/0124', 'credit','10000'),\n",
    "(321, '2017-01-03', '1234/0114', 'credit','10000'),\n",
    "(123, '2017-01-04', '1234/0126', 'credit','5000'), \n",
    "(123, '2017-02-01', '1234/0128', 'debit','10000'),\n",
    "(123, '2017-02-04', '1234/0120', 'credit','5000')\n",
    "\n",
    "SELECT\n",
    "    Client_id,\n",
    "    toStartOfMonth(Report_date) Report_date, \n",
    "    sumIf(Txn_amount, Tnx_type='debit') Debit_amount,\n",
    "    sumIf(Txn_amount, Tnx_type='credit') Credit_amount,\n",
    "    max(v.Report_date)\n",
    "FROM \n",
    "\tRznUps.VSP_oper_data v\n",
    "GROUP BY\n",
    "    Client_id,\n",
    "    Report_date "
   ]
  },
  {
   "cell_type": "markdown",
   "metadata": {},
   "source": [
    "[К оглавлению](#root)"
   ]
  },
  {
   "cell_type": "markdown",
   "metadata": {},
   "source": [
    "### Задание 2 <a class='anchor' id='2.2.2'>\n"
   ]
  },
  {
   "cell_type": "markdown",
   "metadata": {},
   "source": [
    "Если писать в ClickHouse"
   ]
  },
  {
   "cell_type": "code",
   "execution_count": null,
   "metadata": {},
   "outputs": [],
   "source": [
    "CREATE TABLE RznUps.VSP_oper_data (`Client_id` INT, `Report_date` DATE, `VSP_Number` String, `Tnx_type` String, `Txn_amount` INT) ENGINE = MergeTree() PARTITION BY `Report_date` ORDER BY `Report_date`;\n",
    "INSERT INTO RznUps.VSP_oper_data (*) VALUES (123, '2017-01-01', '1234/0123', 'debit','10000'), \n",
    "(123, '2017-01-03', '1234/0125', 'debit','10000'), \n",
    "(231, '2017-01-03', '1234/0125', 'debit','10000'), \n",
    "(123, '2017-01-03', '1234/0124', 'credit','10000'),\n",
    "(321, '2017-01-03', '1234/0114', 'credit','10000'),\n",
    "(123, '2017-01-04', '1234/0126', 'credit','5000'), \n",
    "(123, '2017-02-01', '1234/0128', 'debit','10000'),\n",
    "(123, '2017-02-04', '1234/0120', 'credit','5000')\n",
    "\n",
    "WITH tmp as(\n",
    "\tSELECT\n",
    "\t\tClient_id,\n",
    "\t\ttoStartOfMonth(Report_date) Report_date, \n",
    "\t\tsumIf(Txn_amount, Tnx_type='debit') Debit_amount_per_client\n",
    "\tFROM \n",
    "\t\tRznUps.VSP_oper_data v\n",
    "\tGROUP BY\n",
    "\t\tClient_id,\n",
    "\t\tReport_date \n",
    ")\n",
    "\n",
    "SELECT\n",
    "\ttmp.Client_id,\n",
    "\ttmp2.Report_date,\n",
    "\tROUND(tmp.Debit_amount_per_client/tmp2.Debit_amount_per_month,5) Ratio\n",
    "FROM(\n",
    "\tSELECT\n",
    "\t\tReport_date,\n",
    "\t\tSUM(Debit_amount_per_client) Debit_amount_per_month\n",
    "\tFROM tmp\t\n",
    "\tGROUP BY \n",
    "\t\tReport_date \n",
    ")tmp2\n",
    "LEFT JOIN tmp ON tmp.Report_date = tmp2.Report_date"
   ]
  },
  {
   "cell_type": "markdown",
   "metadata": {},
   "source": [
    "[К оглавлению](#root)"
   ]
  }
 ],
 "metadata": {
  "interpreter": {
   "hash": "e71d8a24ecc7f7ce09bf27764067cf95dedc8ef5b9f811cc29b186677daa69b0"
  },
  "kernelspec": {
   "display_name": "Python 3.9.7 ('base')",
   "language": "python",
   "name": "python3"
  },
  "language_info": {
   "name": "python",
   "version": "3.9.7"
  },
  "orig_nbformat": 4
 },
 "nbformat": 4,
 "nbformat_minor": 2
}
