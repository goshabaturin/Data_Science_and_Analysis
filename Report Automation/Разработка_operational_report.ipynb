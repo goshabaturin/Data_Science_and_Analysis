{
 "cells": [
  {
   "cell_type": "markdown",
   "id": "5c505e7a-126a-4f9e-95f7-5fd12bcda836",
   "metadata": {},
   "source": [
    "# ТЗ:\n",
    "Необходимо автоматизировать сборку и отправку отчета по ключевым метриками продукта \"лента новостей\".\n",
    "Отчет должен состоять из двух частей:\n",
    "- текст с информацией о значениях ключевых метрик за предыдущий день\n",
    "- график с значениями метрик за предыдущие 7 дней\n",
    "\n",
    "В отчете должны быть следующие метрики: \n",
    "- DAU \n",
    "- Просмотры\n",
    "- Лайки\n",
    "- CTR\n",
    "\n",
    "Отчет должен приходить ежедневно в 11:00 в чат. \n",
    "\n",
    "Код сборки отчета должен хранится в репозитории GitLab и его сборка и отправка должна быть автоматизирована с помощью GitLab CI/CD."
   ]
  },
  {
   "cell_type": "code",
   "execution_count": 1,
   "id": "b974f8ea-be3c-4a88-ae8a-e2db83337adc",
   "metadata": {},
   "outputs": [],
   "source": [
    "# !pip install telegram\n",
    "# !pip install python-telegram-bot\n",
    "import telegram\n",
    "import numpy as np\n",
    "import matplotlib.pyplot as plt\n",
    "import seaborn as sns\n",
    "import os\n",
    "import io\n",
    "import pandahouse\n",
    "import loggins_and_passwords as connect\n",
    "from IPython.display import display"
   ]
  },
  {
   "cell_type": "markdown",
   "id": "96fd68fd-f054-4254-95ea-5ad7da6e93f4",
   "metadata": {},
   "source": [
    "## подготовка и исследование возможностей."
   ]
  },
  {
   "cell_type": "markdown",
   "id": "83b94c2f-3e60-4902-b9d7-bb2da8945bc0",
   "metadata": {},
   "source": [
    "### взаимодействие с telegram"
   ]
  },
  {
   "cell_type": "markdown",
   "id": "e532dc1d-b595-4f37-830d-5c528bb3f0cf",
   "metadata": {},
   "source": [
    "Создадим бота в телеге. Для этого сначала напишем боту @BotFather и создадим бота там. При успешном создании мы получим токен.\n",
    "После этого, мы в целом можем уже отправлять сообщения от имени бота. Но есть одно \"но\" - отправлять мы можем не кому угодно, а только тем, что сам инициировал взаимодействие с ботом. Поэтому сначала в телеге найдем созданного бота, стартанем его, получим свой chat_id, а уже потом будем отправлять.\n",
    "Кроме того, будем скрывать наш токен бота и наш идентификатор чата. Не гоже чтобы голыми концами такое торчала наружу. Для этого в настройках CI/CD пропишем переменные, которые будут соответствовать токену и идентификатору чату, а в коде будем передавать не абсолютные значения, а переменные, которые ссылаются на значения."
   ]
  },
  {
   "cell_type": "code",
   "execution_count": 2,
   "id": "2aaac408-94cd-43cc-a41a-49c049c28c75",
   "metadata": {},
   "outputs": [],
   "source": [
    "bot = telegram.Bot(token=connect.bot_token)#os.environ.get(\"bot_token\"))\n",
    "\n",
    "chat_id = connect.chat_id #os.environ.get(\"chat_id\")\n"
   ]
  },
  {
   "cell_type": "markdown",
   "id": "ff94b1cc-106e-468c-b97f-aad44b7c7d9e",
   "metadata": {},
   "source": [
    "Попробуем теперь отправить сообщение"
   ]
  },
  {
   "cell_type": "code",
   "execution_count": 3,
   "id": "20d94f27-c493-4a9b-83ed-30a437fb5d93",
   "metadata": {},
   "outputs": [
    {
     "data": {
      "text/plain": [
       "<telegram.message.Message at 0x7f5ad6bf3a40>"
      ]
     },
     "execution_count": 3,
     "metadata": {},
     "output_type": "execute_result"
    }
   ],
   "source": [
    "# отправим текстовое сообщение\n",
    "bot.sendMessage(chat_id=chat_id, text='hello world')"
   ]
  },
  {
   "cell_type": "markdown",
   "id": "2cd53e7e-f135-4571-9b2d-19503fd89b87",
   "metadata": {},
   "source": [
    "Отлично, все получилось. Теперь попробуем отправить не текст, а, например, график. \n",
    "По идее - надо сохранять график в виде файла и затем отправлять. Однако, в этом случае нужно предусмотреть протокол очистки файловой системы от этих самых файлов с графиками. Это муторно, поэтому будем перенаправлять поток вывода и создавать файл с графиком не в файловой системе, а в буфере.  "
   ]
  },
  {
   "cell_type": "code",
   "execution_count": 4,
   "id": "a6f4017a-9e7e-4ed8-9791-30f5c2b2a5d6",
   "metadata": {},
   "outputs": [
    {
     "name": "stderr",
     "output_type": "stream",
     "text": [
      "/nfs/env/lib/python3.8/site-packages/seaborn/_decorators.py:36: FutureWarning: Pass the following variables as keyword args: x, y. From version 0.12, the only valid positional argument will be `data`, and passing other arguments without an explicit keyword will result in an error or misinterpretation.\n",
      "  warnings.warn(\n"
     ]
    },
    {
     "data": {
      "text/plain": [
       "<telegram.message.Message at 0x7f5ad4a75040>"
      ]
     },
     "execution_count": 4,
     "metadata": {},
     "output_type": "execute_result"
    }
   ],
   "source": [
    "# создадим график\n",
    "x = np.arange(1,10,1)\n",
    "y = np.random.choice(5, len(x))\n",
    "\n",
    "sns.lineplot(x,y)\n",
    "plt.title('Test plot')\n",
    "\n",
    "# заведем файловый объект в буфере, в который будем сохранять график\n",
    "plot_object = io.BytesIO() \n",
    "\n",
    "# сохраним график в файловый объект в буфере\n",
    "plt.savefig(plot_object)\n",
    "plot_object.name = 'test_plot.png'\n",
    "\n",
    "# перенесем курсор из конца файлового объекта в начало, чтобы потом читать весь файл\n",
    "plot_object.seek(0)\n",
    "plt.close()\n",
    "\n",
    "# отпраавим график\n",
    "bot.sendPhoto(chat_id=chat_id, photo=plot_object)"
   ]
  },
  {
   "cell_type": "markdown",
   "id": "cbad627d-cf72-4071-bb9e-b4be5d5b29fe",
   "metadata": {},
   "source": [
    "Отлично, график тоже приходит. Попробуем отправить файл с данными. Для этого сначала выгрузим датафрейм из базы, затем сохраним его в файле хранящемся в буфере и отправим.\n",
    "\n",
    "Чтобы не светить пароли и коннекторы к базе - мы можем засунуть их в переменные CI/CD. Но, поскольку мы еще не пишем боевой код, а только разбираемся - засунем хост, логин и пароль просто в отдельный файл, чтобы была хоть какая-то защита."
   ]
  },
  {
   "cell_type": "code",
   "execution_count": 5,
   "id": "3abc0a5c-10ce-4c9b-9854-8128281ffb7e",
   "metadata": {},
   "outputs": [
    {
     "data": {
      "text/plain": [
       "<telegram.message.Message at 0x7f5ad4a41840>"
      ]
     },
     "execution_count": 5,
     "metadata": {},
     "output_type": "execute_result"
    }
   ],
   "source": [
    "connection = {\n",
    "    'host': connect.host,         #os.environ.get(\"db_host\"),\n",
    "    'password': connect.password, #os.environ.get(\"db_password\"),\n",
    "    'user': connect.user          #os.environ.get(\"db_login\")\n",
    "}\n",
    "\n",
    "query = '''select * from simulator_20220420.feed_actions where toDate(time) = today() limit 100'''\n",
    "\n",
    "df = pandahouse.read_clickhouse(query, connection=connection)\n",
    "    \n",
    "file_object = io.StringIO()\n",
    "df.to_csv(file_object)\n",
    "file_object.name = 'test_file.csv'\n",
    "file_object.seek(0)\n",
    "bot.sendDocument(chat_id=chat_id, document=file_object)"
   ]
  },
  {
   "cell_type": "markdown",
   "id": "57473447-dcc0-4a74-8ca9-ee5b6141ad72",
   "metadata": {},
   "source": [
    "Супер. Теперь мы умеем отправлять в телегу все что нужно. Можно приступать к работе."
   ]
  },
  {
   "cell_type": "markdown",
   "id": "b305eec6-36e8-454c-8239-d628b46957d5",
   "metadata": {},
   "source": [
    "## Собираем отчет"
   ]
  },
  {
   "cell_type": "markdown",
   "id": "dfccc57e-b01c-4baa-b07c-e707101fb26e",
   "metadata": {},
   "source": [
    "### Текст"
   ]
  },
  {
   "cell_type": "markdown",
   "id": "4379c789-c146-42e3-9e18-7ce4d903523d",
   "metadata": {},
   "source": [
    "В первой части отчета у нас толжен быть текст содержащий основные метрики: DAU, лайки, просмотры и CTR за предыдущий день. В теории можно выгружать только 1 день данных, но, поскольку во второй части нам нужны уже графики построенные по данным за последние 7 дней - будем выгружать сразу последние 7 дней и уже из этих данных брать вчерашние значения. Делая так мы уменьшим количество обращений к бд."
   ]
  },
  {
   "cell_type": "code",
   "execution_count": 6,
   "id": "ad6014f0-aac0-4b42-83cd-724c00e08213",
   "metadata": {},
   "outputs": [],
   "source": [
    "def db_to_dataframe(query, connection):\n",
    "    \"\"\"\n",
    "    db_to_dataframe(query, connection=connection)\n",
    "    возвращает объект DataFrame выгруженный из базы.\n",
    "    Параметры подключения к базе определены в переменной connection\n",
    "    \"\"\"\n",
    "    return pandahouse.read_clickhouse(query, connection=connection)"
   ]
  },
  {
   "cell_type": "markdown",
   "id": "f6726a08-60c2-4787-864a-dccd554f6120",
   "metadata": {},
   "source": [
    "***DAU***"
   ]
  },
  {
   "cell_type": "code",
   "execution_count": 7,
   "id": "0dfa9dea-9497-4251-a081-1d04d6d488c6",
   "metadata": {},
   "outputs": [],
   "source": [
    "\n",
    "query = '''\n",
    "SELECT \n",
    "    toStartOfDay(toDateTime(time)) AS day,\n",
    "    count(DISTINCT user_id) AS val\n",
    "FROM \n",
    "    simulator_20220420.feed_actions\n",
    "WHERE \n",
    "    toStartOfDay(toDateTime(time))<toStartOfDay(now())\n",
    "    and \n",
    "    toStartOfDay(toDateTime(time))>= now() - INTERVAL 8 DAY\n",
    "GROUP BY \n",
    "    toStartOfDay(toDateTime(time))\n",
    "ORDER BY \n",
    "    day DESC\n",
    "\n",
    "'''\n",
    "\n",
    "dau = db_to_dataframe(query, connection)\n",
    "\n",
    "dau_yesterday = dau.val.head(1).values[0]\n",
    "\n",
    "\n",
    "\n"
   ]
  },
  {
   "cell_type": "markdown",
   "id": "7cccfeda-3bf5-4809-8b42-0f330aa5dd6b",
   "metadata": {},
   "source": [
    "***Likes, Views, CTR***"
   ]
  },
  {
   "cell_type": "code",
   "execution_count": 8,
   "id": "f0a79c88-eab1-4a75-b6cb-a63fc08869c8",
   "metadata": {},
   "outputs": [],
   "source": [
    "query = '''\n",
    "SELECT \n",
    "       toStartOfDay(toDateTime(time)) AS day,\n",
    "       countIf(user_id, action='like') AS likes,\n",
    "       countIf(user_id, action='view') AS views,\n",
    "       likes/views*100 as ctr\n",
    "FROM \n",
    "    simulator_20220420.feed_actions\n",
    "WHERE \n",
    "    toStartOfDay(toDateTime(time))<toStartOfDay(now())\n",
    "    and \n",
    "    toStartOfDay(toDateTime(time))>= now() - INTERVAL 8 DAY\n",
    "GROUP BY\n",
    "    toStartOfDay(toDateTime(time))\n",
    "ORDER BY day DESC\n",
    "'''\n",
    "\n",
    "likes_views_ctr = db_to_dataframe(query, connection)\n",
    "\n",
    "date_yesterday = likes_views_ctr.head(1).values[0][0]\n",
    "likes_yesterday = likes_views_ctr.head(1).values[0][1]\n",
    "views_yesterday = likes_views_ctr.head(1).values[0][2]\n",
    "ctr_yesterday = likes_views_ctr.head(1).values[0][3]\n"
   ]
  },
  {
   "cell_type": "markdown",
   "id": "7f96e9e1-dbf8-4dbf-8893-431df86529aa",
   "metadata": {},
   "source": [
    "теперь сформируем сообщение"
   ]
  },
  {
   "cell_type": "code",
   "execution_count": 20,
   "id": "9d8c3acd-c223-4d97-a0d8-e5a56055e560",
   "metadata": {},
   "outputs": [
    {
     "data": {
      "text/plain": [
       "<telegram.message.Message at 0x7f5ad4981440>"
      ]
     },
     "execution_count": 20,
     "metadata": {},
     "output_type": "execute_result"
    }
   ],
   "source": [
    "msg = '''\n",
    "    ______________________________\n",
    "    Отчет за {date}:\n",
    "    \\t - всего просмотров: {views}\n",
    "    \\t - всего лайков: {likes}\n",
    "    \\t - CTR: {ctr}%\n",
    "    '''.format(date = date_yesterday.date(), \n",
    "               views='{0:,}'.format(views_yesterday).replace(',', ' '), \n",
    "               likes='{0:,}'.format(likes_yesterday).replace(',', ' '), \n",
    "               ctr = np.round(ctr_yesterday,2))\n",
    "\n"
   ]
  },
  {
   "cell_type": "markdown",
   "id": "0cdb7a51-fdbd-40a8-bf71-331f78049bae",
   "metadata": {},
   "source": [
    "### Графики"
   ]
  },
  {
   "cell_type": "markdown",
   "id": "08fc71bd-e14e-4758-b633-cd78bf0dc69e",
   "metadata": {},
   "source": [
    "Поскольку мы уже выгрузили все данные - нам осталось только визуализировать и отправить. Для начала соберем данный в один датафрейм."
   ]
  },
  {
   "cell_type": "code",
   "execution_count": 65,
   "id": "bdee91c5-6bec-4477-ae19-8ac3e5732853",
   "metadata": {},
   "outputs": [],
   "source": [
    "df = dau.rename(columns={'val':'dau'}).set_index('day').join(\n",
    "    likes_views_ctr.set_index('day'), \n",
    "    how='left').reset_index().sort_values(by='day', ascending=True).copy()"
   ]
  },
  {
   "cell_type": "markdown",
   "id": "b37082d8-bfcf-499e-bf02-4317da61a9db",
   "metadata": {},
   "source": [
    "Теперь создадим графики и сохраним их ка файловый объект в буфере."
   ]
  },
  {
   "cell_type": "code",
   "execution_count": 68,
   "id": "39d0338f-8738-431e-bd24-4bd56ad01f13",
   "metadata": {},
   "outputs": [],
   "source": [
    "fig, axes = plt.subplots(2, 2, sharex=True, figsize=(20,7))\n",
    "fig.suptitle('Основные метрики за последние 7 дней')\n",
    "axes[0][0].set_title('DAU')\n",
    "axes[0][1].set_title('CTR')\n",
    "axes[1][0].set_title('Views')\n",
    "axes[1][1].set_title('Likes')\n",
    "\n",
    "sns.lineplot(ax=axes[0][0], x=df.day.values, y=df.dau.values)\n",
    "sns.lineplot(ax=axes[0][1], x=df.day.values, y=df.ctr.values)\n",
    "sns.lineplot(ax=axes[1][0], x=df.day.values, y=df.likes.values)\n",
    "sns.lineplot(ax=axes[1][1], x=df.day.values, y=df.views.values)\n",
    "\n",
    "\n",
    "# заведем файловый объект в буфере, в который будем сохранять график\n",
    "plot_object = io.BytesIO() \n",
    "\n",
    "# сохраним график в файловый объект в буфере\n",
    "plt.savefig(plot_object)\n",
    "plot_object.name = 'auto_report.png'\n",
    "\n",
    "# перенесем курсор из конца файлового объекта в начало, чтобы потом читать весь файл\n",
    "plot_object.seek(0)\n",
    "plt.close()\n"
   ]
  },
  {
   "cell_type": "markdown",
   "id": "c4ec95fb-65ee-4bf3-ab62-3c0eb913cad8",
   "metadata": {},
   "source": [
    "В целом, на этом мы закончили сборку отчета. Осталось только отправить боту."
   ]
  },
  {
   "cell_type": "markdown",
   "id": "19be1afa-6017-4553-805a-0de1c6051ff8",
   "metadata": {},
   "source": [
    "## Отправляем отчет"
   ]
  },
  {
   "cell_type": "code",
   "execution_count": 69,
   "id": "69af2ce1-517c-4ab7-a205-6a87706f1757",
   "metadata": {},
   "outputs": [
    {
     "data": {
      "text/plain": [
       "<telegram.message.Message at 0x7f5ad305b240>"
      ]
     },
     "execution_count": 69,
     "metadata": {},
     "output_type": "execute_result"
    }
   ],
   "source": [
    "# отправляем текст с показателями за вчера\n",
    "bot.sendMessage(chat_id=chat_id, text=msg)\n",
    "\n",
    "# отпраавим графики с показателями за последние 7 дней\n",
    "bot.sendPhoto(chat_id=chat_id, photo=plot_object)"
   ]
  },
  {
   "cell_type": "markdown",
   "id": "e4ae3416-6687-40d5-9e32-2ab8e22253dd",
   "metadata": {},
   "source": [
    "## Автоматизируем отчет"
   ]
  },
  {
   "cell_type": "markdown",
   "id": "e96de645-780b-48ca-9af8-52acace89cfe",
   "metadata": {},
   "source": [
    "Теперь, когда мы все научились делать локально - создадим python файл, в котором будем собираться и из которого будет отправляться наш отчет. Затем создадим yml файл, который будет запускать сборку и отправку нашего отчета автоматически, по заранее заданному рассписанию."
   ]
  },
  {
   "cell_type": "markdown",
   "id": "5dffd1a8-754a-4797-82ff-38ca8bc5ae43",
   "metadata": {},
   "source": [
    "***сборка отчета***\n",
    "\n",
    "код из следующего блока следует сохранить в отдельный файл с расширением .py\n"
   ]
  },
  {
   "cell_type": "code",
   "execution_count": 1,
   "id": "929ae926-da40-4d38-8591-b2097a0f8a53",
   "metadata": {},
   "outputs": [
    {
     "data": {
      "text/plain": [
       "<telegram.message.Message at 0x7fe7f4934240>"
      ]
     },
     "execution_count": 1,
     "metadata": {},
     "output_type": "execute_result"
    }
   ],
   "source": [
    "import telegram\n",
    "import numpy as np\n",
    "import matplotlib.pyplot as plt\n",
    "import seaborn as sns\n",
    "import os\n",
    "import io\n",
    "import pandahouse\n",
    "\n",
    "def report():\n",
    "\n",
    "    # получим доступ к боту\n",
    "    bot = telegram.Bot(token = os.environ.get(\"bot_token\"))\n",
    "\n",
    "    chat_id = os.environ.get(\"chat_id\")\n",
    "\n",
    "\n",
    "    connection = {\n",
    "        'host': os.environ.get(\"db_host\"),\n",
    "        'password': os.environ.get(\"db_password\"),\n",
    "        'user': os.environ.get(\"db_login\")\n",
    "    }\n",
    "\n",
    "    def db_to_dataframe(query, connection):\n",
    "        \"\"\"\n",
    "        db_to_dataframe(query, connection=connection)\n",
    "        возвращает объект DataFrame выгруженный из базы.\n",
    "        Параметры подключения к базе определены в переменной connection\n",
    "        \"\"\"\n",
    "        return pandahouse.read_clickhouse(query, connection=connection)\n",
    "\n",
    "    query = '''\n",
    "    SELECT \n",
    "        toStartOfDay(toDateTime(time)) AS day,\n",
    "        count(DISTINCT user_id) AS val\n",
    "    FROM \n",
    "        simulator_20220420.feed_actions\n",
    "    WHERE \n",
    "        toStartOfDay(toDateTime(time))<toStartOfDay(now())\n",
    "        and \n",
    "        toStartOfDay(toDateTime(time))>= now() - INTERVAL 8 DAY\n",
    "    GROUP BY \n",
    "        toStartOfDay(toDateTime(time))\n",
    "    ORDER BY \n",
    "        day DESC\n",
    "\n",
    "    '''\n",
    "\n",
    "    dau = db_to_dataframe(query, connection)\n",
    "\n",
    "    dau_yesterday = dau.val.head(1).values[0]\n",
    "\n",
    "    query = '''\n",
    "    SELECT \n",
    "           toStartOfDay(toDateTime(time)) AS day,\n",
    "           countIf(user_id, action='like') AS likes,\n",
    "           countIf(user_id, action='view') AS views,\n",
    "           likes/views*100 as ctr\n",
    "    FROM \n",
    "        simulator_20220420.feed_actions\n",
    "    WHERE \n",
    "        toStartOfDay(toDateTime(time))<toStartOfDay(now())\n",
    "        and \n",
    "        toStartOfDay(toDateTime(time))>= now() - INTERVAL 8 DAY\n",
    "    GROUP BY\n",
    "        toStartOfDay(toDateTime(time))\n",
    "    ORDER BY day DESC\n",
    "    '''\n",
    "\n",
    "    likes_views_ctr = db_to_dataframe(query, connection)\n",
    "\n",
    "    date_yesterday = likes_views_ctr.head(1).values[0][0]\n",
    "    likes_yesterday = likes_views_ctr.head(1).values[0][1]\n",
    "    views_yesterday = likes_views_ctr.head(1).values[0][2]\n",
    "    ctr_yesterday = likes_views_ctr.head(1).values[0][3]\n",
    "\n",
    "\n",
    "    msg = '''\n",
    "        ______________________________\n",
    "        Отчет за {date}:\n",
    "        \\t - всего просмотров: {views}\n",
    "        \\t - всего лайков: {likes}\n",
    "        \\t - CTR: {ctr}%\n",
    "        '''.format(date = date_yesterday.date(), \n",
    "                   views='{0:,}'.format(views_yesterday).replace(',', ' '), \n",
    "                   likes='{0:,}'.format(likes_yesterday).replace(',', ' '), \n",
    "                   ctr = np.round(ctr_yesterday,2))\n",
    "\n",
    "    df = dau.rename(columns={'val':'dau'}).set_index('day').join(\n",
    "        likes_views_ctr.set_index('day'), \n",
    "        how='left').reset_index().sort_values(by='day', ascending=True).copy()\n",
    "\n",
    "    fig, axes = plt.subplots(2, 2, sharex=True, figsize=(20,7))\n",
    "    fig.suptitle('Основные метрики за последние 7 дней')\n",
    "    axes[0][0].set_title('DAU')\n",
    "    axes[0][1].set_title('CTR')\n",
    "    axes[1][0].set_title('Views')\n",
    "    axes[1][1].set_title('Likes')\n",
    "\n",
    "    sns.lineplot(ax=axes[0][0], x=df.day.values, y=df.dau.values)\n",
    "    sns.lineplot(ax=axes[0][1], x=df.day.values, y=df.ctr.values)\n",
    "    sns.lineplot(ax=axes[1][0], x=df.day.values, y=df.likes.values)\n",
    "    sns.lineplot(ax=axes[1][1], x=df.day.values, y=df.views.values)\n",
    "\n",
    "\n",
    "    # заведем файловый объект в буфере, в который будем сохранять график\n",
    "    plot_object = io.BytesIO() \n",
    "\n",
    "    # сохраним график в файловый объект в буфере\n",
    "    plt.savefig(plot_object)\n",
    "    plot_object.name = 'auto_report.png'\n",
    "\n",
    "    # перенесем курсор из конца файлового объекта в начало, чтобы потом читать весь файл\n",
    "    plot_object.seek(0)\n",
    "    plt.close()\n",
    "\n",
    "    # отправляем текст с показателями за вчера\n",
    "    bot.sendMessage(chat_id=chat_id, text=msg)\n",
    "\n",
    "    # отпраавим графики с показателями за последние 7 дней\n",
    "    bot.sendPhoto(chat_id=chat_id, photo=plot_object)\n",
    "    \n",
    "try:\n",
    "    report()\n",
    "except Exception as e:\n",
    "    print(e)"
   ]
  },
  {
   "cell_type": "markdown",
   "id": "512d7078-cad3-414c-92c8-91a669dde632",
   "metadata": {},
   "source": [
    "***файл настройки CI/CD***\n",
    "\n",
    "код из следующего блока следует сохранить в файл .gitlab-ci.yml и положить в корень репозитория. Данный файл содержит алгоритм сборки. \n",
    "\n",
    "***N.B.:*** в целом, можно не выносить сборку отчета в отдельный файл и запускать ноутбук. Однако, поскольку в докер-образе отсутствует jupyter notebook - внутри джобы, необходимо будет вставить секцию before_script, в которой выполнять команду ```pip install jupyter notebook```"
   ]
  },
  {
   "cell_type": "code",
   "execution_count": null,
   "id": "71dd708b-08fd-4758-ad2f-d00bdebdfff0",
   "metadata": {},
   "outputs": [],
   "source": [
    "image: cr.yandex/crp742p3qacifd2hcon2/practice-da:latest\n",
    "\n",
    "stages:\n",
    "    - init\n",
    "    - run\n",
    "\n",
    "job_test_report_1:\n",
    "    stage: run\n",
    "    only:\n",
    "        - schedules\n",
    "    script:\n",
    "        - python operational_report.py\n"
   ]
  },
  {
   "cell_type": "markdown",
   "id": "f87dd2a3-8a16-44ea-9f55-fe040923eb91",
   "metadata": {},
   "source": [
    "***настройка рассписаня***\n",
    "\n",
    "После того, как все подготовительные этапы сделаны - необходимо задать рассписание по которому будет собираться и отправляться отчет. Для этого в gitlab необходимо перейти на вкладку CI/CD -> Shedules -> New Schedule  и задать кастомное рассписание вида ```* 11 * * *```(по тз - оправка должна быть каждый день в 11 утра). Также необходимо указать имя, чтобы было понятно для чего это рассписание и часовой пояс, чтобы отчет приходил в 11 утра по часовому поясу заказчика, а не Лондона."
   ]
  },
  {
   "cell_type": "markdown",
   "id": "f4b1d715-c5cd-4e71-8114-b435aa87e9c7",
   "metadata": {},
   "source": [
    "***настройка переменных***\n",
    "\n",
    "Ранее, при сборке отчета, в целях безопасности, мы заменяли наши абсолютные значения, такие как идентификатор чата или токен бота, на переменные окружения. Для того, чтобы в нашем окружении появились эти переменные - нужно их создать в gitlab. Переходим на вкладку settings->CI/CD->Variables->Expand->Add Variable. В поле Key указываем имя переменной, по которому мы обращаемся к ней (например \"bot_token\"), а в поле Value - ее значение (т.е. сам токен, который получен нами от @BotFather)"
   ]
  }
 ],
 "metadata": {
  "kernelspec": {
   "display_name": "Python 3 (ipykernel)",
   "language": "python",
   "name": "python3"
  },
  "language_info": {
   "codemirror_mode": {
    "name": "ipython",
    "version": 3
   },
   "file_extension": ".py",
   "mimetype": "text/x-python",
   "name": "python",
   "nbconvert_exporter": "python",
   "pygments_lexer": "ipython3",
   "version": "3.8.10"
  }
 },
 "nbformat": 4,
 "nbformat_minor": 5
}
