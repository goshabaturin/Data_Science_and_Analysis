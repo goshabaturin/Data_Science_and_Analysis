{
 "cells": [
  {
   "cell_type": "markdown",
   "id": "2efbd677-1ab1-4ec6-adaa-43a46e199c71",
   "metadata": {},
   "source": [
    "# A/B - тесты"
   ]
  },
  {
   "cell_type": "markdown",
   "id": "ef3d6781-10c0-4fe8-9bfb-997c685c218b",
   "metadata": {},
   "source": [
    "## Вводные"
   ]
  },
  {
   "cell_type": "markdown",
   "id": "c699d876-7aab-4a4e-a3d4-5981785b99b0",
   "metadata": {},
   "source": [
    "**ТЗ:** ML команда сделала некоторые новые алгоритмы рекомендаций в новостной ленте. Ожидается, что новые алгоритмы сделают пользователей счастливее, то есть удлинится LTV, повысятся денежные конверсии и т.д., а продукт удобнее/приятнее в использовании. Необходимо проверить эту гипотезу."
   ]
  },
  {
   "cell_type": "markdown",
   "id": "bd0d603e-02de-4875-a72d-64ad886de203",
   "metadata": {},
   "source": [
    "**Обследование области**"
   ]
  },
  {
   "cell_type": "markdown",
   "id": "6e9208ac-0ffc-4260-86cb-bd8ce68d00df",
   "metadata": {},
   "source": [
    "Команда ML сказала нам «Рекомендации делают посты интереснее». Сделано было два новых алгоритма рекомендаций:\n",
    "\n",
    "1) Показываем пользователю посты, наиболее похожие на те, которые он лайкал.\n",
    "2) Показываем пользователю посты, которые лайкали похожие на него пользователи."
   ]
  },
  {
   "cell_type": "markdown",
   "id": "effd0399-70e0-4d1f-91df-e98e9b91710c",
   "metadata": {},
   "source": [
    "**Выбор метрики**"
   ]
  },
  {
   "cell_type": "markdown",
   "id": "3d822892-bd5b-4f0f-af25-a0e78c408b3e",
   "metadata": {},
   "source": [
    "Показатель, увеличение которого будет говорит, что посты стали интереснее (a.k.a продукт стал удобнее):\n",
    "\n",
    "- Время, проведенное в ленте\n",
    "- Количество просмотренных постов в единицу времени\n",
    "- Количество лайков\n",
    "- CTR из просмотров в лайки\n",
    "\n",
    "Возьмем CTR потому что есть явное действие, которое показывает заинтересованность – лайк."
   ]
  },
  {
   "cell_type": "markdown",
   "id": "586e92d5-4f88-4298-87dd-ff74f6431448",
   "metadata": {},
   "source": [
    "**Подготовка А/B-теста**"
   ]
  },
  {
   "cell_type": "markdown",
   "id": "6f591bcc-511a-4a13-8a4d-aebcf56e9f5f",
   "metadata": {},
   "source": [
    "Перед запуском A/B-теста, хорошим тоном считается провести А/А-тестирование. Для того, чтобы грамотно его провести - необходимо соблюсти следующие условия:\n",
    "- Разбиение должно быть случайным (потому что мы хотим, чтобы наши группы отличались только воздействием и показатели группы отражали показатели генеральной совокупности)\n",
    "- У каждого пользователя в течение эксперимента не должна меняться группа (потому что мы не хотим, чтобы пользователь видел оба варианта алгоритма, мы хотим независимости выборок)\n",
    "- Способ разбиения должен быть детерминированным (чтобы можно было, если нужно, в точности повторить разбиение, например если мы захотим проверить взаимодействия этих алгоритмов с какой-то новой функциональностью, например \"каруселью\" с популярными историями)"
   ]
  },
  {
   "cell_type": "markdown",
   "id": "d6411828-7e2c-4b07-b5e7-a63544b85621",
   "metadata": {},
   "source": [
    "# Оглавление <a id='root'></a> \n",
    "* [Проверка готовности к A/B-тестированию](#0)\n",
    "    * [Проверка системы сплитования](#1)\n",
    "    * [A/A-тестирование](#2)\n",
    "    * [Вывод о системе сплитования и результатах A/A-теста](#3)\n",
    "* [A/B-тест](#4)\n",
    "    * [Графики распределения](#5)\n",
    "    * [Проверка условий использования t-теста](#6)\n",
    "    * [Проверка гипотезы критерием Манна-Уитни](#7)\n",
    "    * [Проверка условий использования критерия Манна-Уитни](#7.5)\n",
    "    * [Сглаживание по Лапласу](#8)\n",
    "    * [Проверка гипотезы на сглаженных данных](#9)\n",
    "    * [Проверка гипотезы Пуассоновским бутстрепом](#10)\n",
    "    * [Проверка гипотезы бакетным преобразованием](#11)\n",
    "    * [Вывод о результах A/B-тестирования](#12)\n",
    "* [Проверка результатов А/В-тестирования по методу Яндекса](#13)"
   ]
  },
  {
   "cell_type": "code",
   "execution_count": 1,
   "id": "29689874-35f5-490b-82e5-581bc4dc4ee3",
   "metadata": {},
   "outputs": [],
   "source": [
    "import pandas as pd\n",
    "import pandahouse as ph\n",
    "import seaborn as sns\n",
    "import scipy.stats as stats\n",
    "import numpy as np\n",
    "import loggins_and_passwords as connect\n"
   ]
  },
  {
   "cell_type": "markdown",
   "id": "c0de329c-e5eb-48ed-abd1-673607a88354",
   "metadata": {},
   "source": [
    "Можем разбить наших пользователей на группы самостоятельно"
   ]
  },
  {
   "cell_type": "code",
   "execution_count": 2,
   "id": "90b5cfa4-39b9-491a-bfac-6276774cbf34",
   "metadata": {},
   "outputs": [],
   "source": [
    "def ab_split(id, salt='exp_mess_1', n_groups=4):\n",
    "    \"\"\"\n",
    "    ab_split(id, salt='exp_mess_1', n_groups=4):\n",
    "    Разбиение пользователей на группы для А/Б тестов с использованием соленого хеша\n",
    "    \"\"\"\n",
    "    \n",
    "    test_id = str(id) + '-' + str(salt)\n",
    "    test_id_digest = hashlib.md5(test_id.encode('ascii')).hexdigest()\n",
    "    test_id_final_int = int(test_id_digest, 16)\n",
    "    return test_id_final_int % n_groups"
   ]
  },
  {
   "cell_type": "markdown",
   "id": "0c11d05f-3e27-4350-a041-4938ac4c6dae",
   "metadata": {},
   "source": [
    "Тоже самое можно сделать и в Clickhouse\n",
    "\n",
    "```\n",
    "SELECT xxHash64(toString(user_id)||'exp_mess_1')%5 as group, \n",
    "    uniqExact(user_id)\n",
    "FROM {db}.feed_actions \n",
    "WHERE toDate(time) >= '2022-03-28' and toDate(time) <= '2022-04-03' \n",
    "group by group \n",
    "```\n",
    "\n",
    "Но, мы знаем, что пользователи уже разбиты на группы и даже в БД им присвоен номер группы. А сам A/A-тест проходил с 28 марта по 3 апреля 2022 года. Поэтому, чтобы проверить результаты необходимо проверить систему сплитования. Будем проверять ее на 2 и 3 группе пользователей."
   ]
  },
  {
   "cell_type": "markdown",
   "id": "2b9f22be-5f4e-400c-ba72-4237b6f676f5",
   "metadata": {},
   "source": [
    "# Проверка готовности к A/B-тестированию <a id='0'></a> "
   ]
  },
  {
   "cell_type": "markdown",
   "id": "776d3469-2d37-4aa5-8c32-9561396e7940",
   "metadata": {},
   "source": [
    "## Проверка системы сплитования <a id='1'></a> "
   ]
  },
  {
   "cell_type": "markdown",
   "id": "85228c41-5072-428c-ad5d-7e6cb25d36f6",
   "metadata": {},
   "source": [
    "Для начала выгрузим данные и посчитаем количество пользователей в каждой из групп. Их должно быть примерно равное количество."
   ]
  },
  {
   "cell_type": "code",
   "execution_count": 3,
   "id": "7e0ef141-4f9a-4eb0-99a7-0930f80a1f7e",
   "metadata": {},
   "outputs": [
    {
     "data": {
      "text/html": [
       "<div>\n",
       "<style scoped>\n",
       "    .dataframe tbody tr th:only-of-type {\n",
       "        vertical-align: middle;\n",
       "    }\n",
       "\n",
       "    .dataframe tbody tr th {\n",
       "        vertical-align: top;\n",
       "    }\n",
       "\n",
       "    .dataframe thead th {\n",
       "        text-align: right;\n",
       "    }\n",
       "</style>\n",
       "<table border=\"1\" class=\"dataframe\">\n",
       "  <thead>\n",
       "    <tr style=\"text-align: right;\">\n",
       "      <th></th>\n",
       "      <th>user_id</th>\n",
       "      <th>likes</th>\n",
       "      <th>views</th>\n",
       "      <th>ctr</th>\n",
       "    </tr>\n",
       "    <tr>\n",
       "      <th>exp_group</th>\n",
       "      <th></th>\n",
       "      <th></th>\n",
       "      <th></th>\n",
       "      <th></th>\n",
       "    </tr>\n",
       "  </thead>\n",
       "  <tbody>\n",
       "    <tr>\n",
       "      <th>2</th>\n",
       "      <td>8480</td>\n",
       "      <td>8480</td>\n",
       "      <td>8480</td>\n",
       "      <td>8480</td>\n",
       "    </tr>\n",
       "    <tr>\n",
       "      <th>3</th>\n",
       "      <td>8569</td>\n",
       "      <td>8569</td>\n",
       "      <td>8569</td>\n",
       "      <td>8569</td>\n",
       "    </tr>\n",
       "  </tbody>\n",
       "</table>\n",
       "</div>"
      ],
      "text/plain": [
       "           user_id  likes  views   ctr\n",
       "exp_group                             \n",
       "2             8480   8480   8480  8480\n",
       "3             8569   8569   8569  8569"
      ]
     },
     "execution_count": 3,
     "metadata": {},
     "output_type": "execute_result"
    }
   ],
   "source": [
    "\n",
    "\n",
    "connection = {'host': connect.host,\n",
    "                      'database':connect.database,\n",
    "                      'user':connect.user, \n",
    "                      'password':connect.password\n",
    "                     }\n",
    "\n",
    "query = '''\n",
    "SELECT \n",
    "    exp_group, \n",
    "    user_id,\n",
    "    sum(action = 'like') as likes,\n",
    "    sum(action = 'view') as views,\n",
    "    likes/views as ctr\n",
    "FROM {db}.feed_actions \n",
    "WHERE toDate(time) between '2022-03-28' and '2022-04-03'\n",
    "    and exp_group in (2,3)\n",
    "GROUP BY exp_group, user_id\n",
    "'''\n",
    "\n",
    "df = ph.read_clickhouse(query, connection=connection)\n",
    "df.groupby('exp_group').count()"
   ]
  },
  {
   "cell_type": "markdown",
   "id": "5fae1fb4-c0b2-42cb-b646-39c281178951",
   "metadata": {},
   "source": [
    "Распределение пользователей по группам выглядит более менее. Проверим это на графике."
   ]
  },
  {
   "cell_type": "code",
   "execution_count": 4,
   "id": "c78361e0-5236-4d9b-b467-dc6d0eee8810",
   "metadata": {},
   "outputs": [
    {
     "data": {
      "image/png": "[encoded data removed]",
      "text/plain": [
       "<Figure size 842.4x595.44 with 1 Axes>"
      ]
     },
     "metadata": {},
     "output_type": "display_data"
    }
   ],
   "source": [
    "sns.set(rc={'figure.figsize':(11.7,8.27)})\n",
    "\n",
    "groups = sns.histplot(data = df, \n",
    "              x='ctr', \n",
    "              hue='exp_group', \n",
    "              palette = ['r', 'b'],\n",
    "              alpha=0.5,\n",
    "              kde=False)"
   ]
  },
  {
   "cell_type": "markdown",
   "id": "55c6d386-3910-4b0f-afab-f1bde512ae49",
   "metadata": {},
   "source": [
    "Отлично. Разбиение визуально похоже на случайное. Более детально мы это проверим при А/А-тестировании. А пока проверим, правда ли у наших пользователей остается неизменная группа на протяжении всего эксперемента"
   ]
  },
  {
   "cell_type": "code",
   "execution_count": 5,
   "id": "78f1750c-3897-4411-bde0-5df827581a54",
   "metadata": {},
   "outputs": [
    {
     "data": {
      "text/html": [
       "<div>\n",
       "<style scoped>\n",
       "    .dataframe tbody tr th:only-of-type {\n",
       "        vertical-align: middle;\n",
       "    }\n",
       "\n",
       "    .dataframe tbody tr th {\n",
       "        vertical-align: top;\n",
       "    }\n",
       "\n",
       "    .dataframe thead th {\n",
       "        text-align: right;\n",
       "    }\n",
       "</style>\n",
       "<table border=\"1\" class=\"dataframe\">\n",
       "  <thead>\n",
       "    <tr style=\"text-align: right;\">\n",
       "      <th></th>\n",
       "      <th>user_id</th>\n",
       "      <th>exp_group</th>\n",
       "    </tr>\n",
       "  </thead>\n",
       "  <tbody>\n",
       "  </tbody>\n",
       "</table>\n",
       "</div>"
      ],
      "text/plain": [
       "Empty DataFrame\n",
       "Columns: [user_id, exp_group]\n",
       "Index: []"
      ]
     },
     "execution_count": 5,
     "metadata": {},
     "output_type": "execute_result"
    }
   ],
   "source": [
    "df.query('exp_group in(2,3)').pivot_table(index='user_id', values= 'exp_group', aggfunc = lambda x: len(x.unique())).reset_index().query('exp_group>1')\n"
   ]
  },
  {
   "cell_type": "markdown",
   "id": "de6a3520-3b80-4877-ac60-12478ed63ffb",
   "metadata": {},
   "source": [
    "Супер, группа не изменяется. Теперь посмотрим, что скажет нам t-тест, если мы его запустим 10к раз на подвыборках из 500 пользователей?\n",
    "\n",
    "[К оглавлению](#root)"
   ]
  },
  {
   "cell_type": "markdown",
   "id": "bd68cd91-dd10-4a27-9e8f-b406ff5db5fd",
   "metadata": {},
   "source": [
    "## A/A- тест <a id='2'></a> "
   ]
  },
  {
   "cell_type": "code",
   "execution_count": 6,
   "id": "250f8dfe-1808-453a-b90d-704d00f81874",
   "metadata": {},
   "outputs": [],
   "source": [
    "p_arr = []\n",
    "for _ in range(10000):\n",
    "    t_stat = stats.ttest_ind(df[df.exp_group == 2].ctr.sample(500),\n",
    "                            df[df.exp_group == 3].ctr.sample(500),\n",
    "                            equal_var=False)\n",
    "\n",
    "    p_arr.append(t_stat[1])"
   ]
  },
  {
   "cell_type": "code",
   "execution_count": 7,
   "id": "b38c5d8e-0f43-4a35-b733-4b3918a84663",
   "metadata": {},
   "outputs": [
    {
     "data": {
      "text/plain": [
       "<AxesSubplot:ylabel='Count'>"
      ]
     },
     "execution_count": 7,
     "metadata": {},
     "output_type": "execute_result"
    },
    {
     "data": {
      "image/png": "[encoded data removed]",
      "text/plain": [
       "<Figure size 842.4x595.44 with 1 Axes>"
      ]
     },
     "metadata": {},
     "output_type": "display_data"
    }
   ],
   "source": [
    "sns.histplot(x=p_arr, kde=False, bins=10000)\n",
    "\n"
   ]
  },
  {
   "cell_type": "markdown",
   "id": "b8d85104-d059-41b6-9349-f481cbf0bd26",
   "metadata": {},
   "source": [
    "Выглядит уже не очень здорово, но это только выглядит. Чтобы тест был признан удачным (на уровне значимости 0.05) - мы должны получать p-value меньше либо равное 0.05 только в 5% случаев. Проверим это "
   ]
  },
  {
   "cell_type": "code",
   "execution_count": 8,
   "id": "93953897-5cb7-4f08-af94-38698fc2b10e",
   "metadata": {},
   "outputs": [
    {
     "name": "stdout",
     "output_type": "stream",
     "text": [
      "мы получили значение p-value меньше 0.05 в 4.54% случаев\n"
     ]
    }
   ],
   "source": [
    "print(f'мы получили значение p-value меньше 0.05 в {len([i for i in p_arr if i<=0.05])/len(p_arr)*100}% случаев')"
   ]
  },
  {
   "cell_type": "markdown",
   "id": "bec6fa2b-c956-43c1-8a8f-57b5cebe433c",
   "metadata": {},
   "source": [
    "## Вывод A/A-тестирования <a id='3'></a> \n",
    "На уровне значимости 0.05 мы можем принять гипотезу о том, что наша система сплитования работает нормально. Только в 4.75% случаев мы получили значение p-value меньше либо равное 0.05, т.е., вероятность случайно получить такое или еще большее различие между 2 и 3 группой пользователей - менее 5%. Кроме того, мы знаем, что у нас выполняется условие неизменности группы у пользователя в ходе эксперемента.\n",
    "\n",
    "[К оглавлению](#root)"
   ]
  },
  {
   "cell_type": "markdown",
   "id": "cd26af01-c857-44a3-a7d2-2752dc2a1d16",
   "metadata": {},
   "source": [
    "# A/B-тестирование <a id='4'></a> "
   ]
  },
  {
   "cell_type": "markdown",
   "id": "fb2dee69-b8f7-438e-9034-997102b80dfc",
   "metadata": {},
   "source": [
    "После того, как было проведено А/А-тестирование, был запущен А/В-тест, который проходил с 4 апреля по 10 апреля включительно 2022 года. Для эксперемента были задействованны группы 1 и 2. В группе 2 был использован один из новых алгоритмов рекомендации постов, группа 1 использовалась в качестве контроля. \n",
    "\n",
    "Основная гипотеза заключается в том, что новый алгоритм во 2-й группе приведет к увеличению CTR. \n",
    "\n",
    "Нам необходимо проанализировать результаты"
   ]
  },
  {
   "cell_type": "code",
   "execution_count": 9,
   "id": "7b86fcf1-a0a5-4f63-bf6d-85b161f6e064",
   "metadata": {},
   "outputs": [
    {
     "data": {
      "text/html": [
       "<div>\n",
       "<style scoped>\n",
       "    .dataframe tbody tr th:only-of-type {\n",
       "        vertical-align: middle;\n",
       "    }\n",
       "\n",
       "    .dataframe tbody tr th {\n",
       "        vertical-align: top;\n",
       "    }\n",
       "\n",
       "    .dataframe thead th {\n",
       "        text-align: right;\n",
       "    }\n",
       "</style>\n",
       "<table border=\"1\" class=\"dataframe\">\n",
       "  <thead>\n",
       "    <tr style=\"text-align: right;\">\n",
       "      <th></th>\n",
       "      <th>user_id</th>\n",
       "      <th>likes</th>\n",
       "      <th>views</th>\n",
       "      <th>ctr</th>\n",
       "    </tr>\n",
       "    <tr>\n",
       "      <th>exp_group</th>\n",
       "      <th></th>\n",
       "      <th></th>\n",
       "      <th></th>\n",
       "      <th></th>\n",
       "    </tr>\n",
       "  </thead>\n",
       "  <tbody>\n",
       "    <tr>\n",
       "      <th>1</th>\n",
       "      <td>10079</td>\n",
       "      <td>10079</td>\n",
       "      <td>10079</td>\n",
       "      <td>10079</td>\n",
       "    </tr>\n",
       "    <tr>\n",
       "      <th>2</th>\n",
       "      <td>9952</td>\n",
       "      <td>9952</td>\n",
       "      <td>9952</td>\n",
       "      <td>9952</td>\n",
       "    </tr>\n",
       "  </tbody>\n",
       "</table>\n",
       "</div>"
      ],
      "text/plain": [
       "           user_id  likes  views    ctr\n",
       "exp_group                              \n",
       "1            10079  10079  10079  10079\n",
       "2             9952   9952   9952   9952"
      ]
     },
     "execution_count": 9,
     "metadata": {},
     "output_type": "execute_result"
    }
   ],
   "source": [
    "query = '''\n",
    "SELECT \n",
    "    exp_group, \n",
    "    user_id,\n",
    "    sum(action = 'like') as likes,\n",
    "    sum(action = 'view') as views,\n",
    "    likes/views as ctr\n",
    "FROM {db}.feed_actions \n",
    "WHERE toDate(time) between '2022-04-04' and '2022-04-10'\n",
    "    and exp_group in (1,2)\n",
    "GROUP BY exp_group, user_id\n",
    "'''\n",
    "\n",
    "df = ph.read_clickhouse(query, connection=connection)\n",
    "df.groupby('exp_group').count()"
   ]
  },
  {
   "cell_type": "markdown",
   "id": "d0769c82-0190-46e4-884d-91cbac0a869b",
   "metadata": {},
   "source": [
    "Группы у нас распределились примерно одинаково. Посмотрим на гистограмму  <a id='5'></a> "
   ]
  },
  {
   "cell_type": "code",
   "execution_count": 10,
   "id": "2690e247-7076-4d75-9ef2-60b1068241cd",
   "metadata": {},
   "outputs": [
    {
     "data": {
      "image/png": "[encoded data removed]",
      "text/plain": [
       "<Figure size 842.4x595.44 with 1 Axes>"
      ]
     },
     "metadata": {},
     "output_type": "display_data"
    }
   ],
   "source": [
    "groups = sns.histplot(data = df, \n",
    "              x='ctr', \n",
    "              hue='exp_group', \n",
    "              palette = ['r', 'b'],\n",
    "              alpha=0.5,\n",
    "              kde=False)"
   ]
  },
  {
   "cell_type": "markdown",
   "id": "5443d446-a972-469c-8ee3-c81ea7c0d818",
   "metadata": {},
   "source": [
    "Сказка... У второй группы, показатель которой мы ожидаем величить - бимодальное распределение. Скорее всего, t-критерий не сможет адекватно оценить результаты, потому что, как миниму, t-тест плохо работает на сильно скошенных распределениях, а распределение пользователей во 2 группе как раз такое. \n",
    "\n",
    "\n",
    "[К оглавлению](#root)\n",
    "\n",
    "\n",
    "Кроме того, было бы неплохо проверить условия применимости t-критерия, а для этого нужно их вспомнить: <a id='6'></a> \n",
    "\n",
    "- некоррелируемость признаков\n",
    "- нормальность распределения признаков\n",
    "- гомогенность дисперсий признаков\n",
    "\n",
    "С первым пунктом все понятно - действия независимые и выполнены разными пользователями, неизменность групп которых мы подтвердили проверяя систему сплитования. А вот второй и третий критерий применимости t-критерия - нужно проверять.\n",
    "\n",
    "Для проверки на нормальность можно использовать, например тест Шапиро-Вилка. При этом, нужно понимать, что даже отвергание гипотезы о нормальности распределения не дает однозначного запрета на использование критерия Стьюдента потому что доказано, что при больших выборках (где n>30) требование нормальности распределения для t-критерия является необязательным.\n",
    "\n",
    "При проверрке на гомогенность дисперсии можно использовать критерий Фишера. Тут важно помнить, что в отличае от t-теста, для F-критерия требование нормальности распределений является обязательнымзатем и, в случае нарушения этого требования, можно легко, без регистраций и смс, получить неадекватные результаты. Поэтому, если вдруг наши выборки распределены не нормально, то следует использовать какой-либо непараметрический аналог, например тест Крускала-Виллиаса (он, кстати, хорошо работает если выборки разного размера).\n"
   ]
  },
  {
   "cell_type": "code",
   "execution_count": 11,
   "id": "fa621818-28ac-4821-b5f1-f273d92c6002",
   "metadata": {},
   "outputs": [
    {
     "name": "stdout",
     "output_type": "stream",
     "text": [
      "следует выбрать другой критерий\n"
     ]
    },
    {
     "name": "stderr",
     "output_type": "stream",
     "text": [
      "/nfs/env/lib/python3.8/site-packages/scipy/stats/morestats.py:1760: UserWarning: p-value may not be accurate for N > 5000.\n",
      "  warnings.warn(\"p-value may not be accurate for N > 5000.\")\n"
     ]
    }
   ],
   "source": [
    "def can_we_use_t_test(sample_1, sample_2, alpha=0.05):\n",
    "    \n",
    "    \"\"\"\n",
    "    can_we_use_t_test(sample_1, sample_2, alpha=0.05)\n",
    "    проверяет условия использования t-критерия Стъюдента\n",
    "    для сравнения средних 2х выборок.\n",
    "    sample_1 - numpy array\n",
    "    sample_2 - numpy array\n",
    "    alpha - уровень значимости\n",
    "    \"\"\"\n",
    "\n",
    "    # проверим распределения на нормальность\n",
    "    shapiro_1 = stats.shapiro(sample_1).pvalue\n",
    "    shapiro_2 = stats.shapiro(sample_2).pvalue\n",
    "\n",
    "    # проверим гомогенность дисперсии\n",
    "    var_1 = (sample_1 - sample_1.mean())**2\n",
    "    var_2 = (sample_2 - sample_2.mean())**2\n",
    "\n",
    "    var_1_shapiro = stats.shapiro(var_1).pvalue\n",
    "    var_2_shapiro = stats.shapiro(var_2).pvalue\n",
    "\n",
    "    if var_1_shapiro >= alpha and var_2_shapiro >= alpha:\n",
    "\n",
    "        F = np.var(sample_1) / np.var(sample_2)\n",
    "        df_1 = len(sample_1)-1\n",
    "        df_2 = len(sample_2)-1\n",
    "        homogeneity_p = 1 - st.f.cdf(F, df_1, df_2)\n",
    "\n",
    "    else:\n",
    "        homogeneity_p = stats.kruskal(sample_1, sample_2).pvalue\n",
    "\n",
    "\n",
    "\n",
    "    if (shapiro_1 >= alpha or (shapiro_1 < alpha and len(sample_1) > 30)) and \\\n",
    "     (shapiro_2>= alpha or (shapiro_2 < alpha and len(sample_2)>30)) and \\\n",
    "     homogeneity_p > alpha:\n",
    "\n",
    "        print('проверяем гипотезу по Стьюденту')\n",
    "    else:\n",
    "        print('следует выбрать другой критерий')\n",
    "        \n",
    "        \n",
    "can_we_use_t_test(df[df.exp_group == 1].ctr.values, df[df.exp_group == 2].ctr.values)"
   ]
  },
  {
   "cell_type": "markdown",
   "id": "ce69d74f-5768-4806-9a39-81307e9fa8cb",
   "metadata": {},
   "source": [
    "[К оглавлению](#root)\n",
    "\n",
    " <a id='7'></a> Окей, Стъюдентом нельзя. Можно попробовать Манна-Утни, но чтоб точно получить адекватный результат - проверим сразу условия выполнения нулевой гипотезы теста: вероятность того, что случайно взятое значение из первой выборки равновероятно окажется больше или меньше случайно взятого значения из второй выборки."
   ]
  },
  {
   "cell_type": "code",
   "execution_count": 12,
   "id": "a5b5fe8e-f7f1-4e6d-a13b-43e3ef76d00e",
   "metadata": {},
   "outputs": [
    {
     "name": "stdout",
     "output_type": "stream",
     "text": [
      "в 56.29% случаев значение CTR взятое из 1 группы больше значения CTR из второй. Должно получиться в райне 50%\n"
     ]
    }
   ],
   "source": [
    "def can_we_use_Mann(sample_1, sample_2, k):\n",
    "    \"\"\"\n",
    "    can_we_use_Mann(sample_1, sample_2)\n",
    "    \n",
    "    расчитывает в каком % испытаний показатель случайно взятый из перво выборки больше показателя случайно взятого из второй\n",
    "    sample_1 - numpy array\n",
    "    sample_2 - numpy array\n",
    "    k - количество испытаний\n",
    "    \"\"\"\n",
    "    get_A_B = 0\n",
    "    for i in range(k):\n",
    "        get_A_B += sample_1.sample().values[0]>sample_2.sample().values[0]\n",
    "\n",
    "    print(f'в {get_A_B/100}% случаев значение CTR взятое из 1 группы больше значения CTR из второй. Должно получиться в райне 50%')\n",
    "\n",
    "can_we_use_Mann(df[df.exp_group == 1].ctr, df[df.exp_group == 2].ctr, 10000)"
   ]
  },
  {
   "cell_type": "markdown",
   "id": "0db12ae9-3911-418d-b45d-cadbb8cb8eb4",
   "metadata": {},
   "source": [
    "Получается, что тест Манна-Уитни говорит нам, что CTR первой группы больше CTR второй. Это не тот результат который бы мы хотели увидеть, поэтому проверим его более тщательно.\n",
    "\n",
    "[К оглавлению](#root)\n",
    "\n",
    "Условя применимости теста Манна-Уитни: <a id='7.5'></a> \n",
    "- В каждой из выборок должно быть не менее 3 значений признака. Допускается, чтобы в одной выборке было два значения, но во второй тогда не менее пяти.\n",
    "- В выборочных данных не должно быть совпадающих значений (все числа — разные) или таких совпадений должно быть очень мало (до 10).\n",
    "\n",
    "Первое условие у нас выполняется (мы знаем, что в каждой из выборок около 10к значений, а вот второе надо проверять.\n"
   ]
  },
  {
   "cell_type": "code",
   "execution_count": 13,
   "id": "71be4e32-db2b-475d-9ae7-74e5dea9f8b8",
   "metadata": {},
   "outputs": [
    {
     "name": "stdout",
     "output_type": "stream",
     "text": [
      "количество совпадающих значений в выборке 999\n",
      "количество совпадающих значений в выборке 1065\n"
     ]
    }
   ],
   "source": [
    "def can_we_use_Mann_2(samples_list):\n",
    "    \"\"\"\n",
    "    can_we_use_Mann_2(samples_list)\n",
    "    считает количество повторяющихся значений в выборке.\n",
    "    если повторяющихся значений больше 10 - критерий Манна-Уитни использовать нельзя.\n",
    "    \n",
    "    samples_list (list) - список в котором каждый элемент - список значений метрики\n",
    "    \n",
    "    \"\"\"\n",
    "    for sample in samples_list:\n",
    "        un_val = sample.to_list()\n",
    "        count_dic = {}\n",
    "        for el in un_val:\n",
    "            count_dic[el] = 0\n",
    "\n",
    "        for el in un_val:\n",
    "            count_dic[el]=count_dic[el]+1\n",
    "\n",
    "        print(f'количество совпадающих значений в выборке {len([k for k,v in count_dic.items() if v>1])}')\n",
    "\n",
    "can_we_use_Mann_2([df[df.exp_group == 1].ctr, df[df.exp_group == 2].ctr])"
   ]
  },
  {
   "cell_type": "markdown",
   "id": "8b04bae3-ea01-40d0-a7eb-8b240efb826d",
   "metadata": {},
   "source": [
    "Получили гораздо больше, чем 10 совпадающих значений в каждой из выборок. Значит мы не можем пологаться на результаты теста Манна-Уитни. Попробуем оценить как-нибудь по другому\n",
    "\n",
    "[К оглавлению](#root)\n",
    "\n",
    "<a id='8'></a> Есть предположение, что наши данные сильно зашумлены и у пользователей с малым количеством просмотров мы просто не в состоянии набрать достаточную статистику, чтобы сделать вывод о его CTR. Поэтому попробуем сгладить CTR и проверить можем ли мы использовать эти 2 теста на сглаженном CTR, а сглаживать будем по Лапласу.\n"
   ]
  },
  {
   "cell_type": "code",
   "execution_count": 14,
   "id": "a7fac067-8114-46a4-825e-2270f916f88a",
   "metadata": {},
   "outputs": [],
   "source": [
    "def get_smothed_ctr(user_likes, user_views, global_ctr, alpha):\n",
    "    \"\"\"\n",
    "    get_smothed_ctr(user_likes, user_views, global_ctr, alpha)\n",
    "    считает сглаженный ctr  по Лапласу\n",
    "    \"\"\"\n",
    "    \n",
    "    smothed_ctr = (user_likes + alpha * global_ctr) / (user_views + alpha)\n",
    "    \n",
    "    return smothed_ctr\n",
    "\n",
    "query = \"\"\"\n",
    "SELECT exp_group, \n",
    "    user_id,\n",
    "    sum(action = 'like') as likes,\n",
    "    sum(action = 'view') as views,\n",
    "    likes/views as ctr\n",
    "FROM {db}.feed_actions \n",
    "WHERE toDate(time) between '2022-04-04' and '2022-04-10'\n",
    "    and exp_group in (1,2)\n",
    "GROUP BY exp_group, user_id\n",
    "\"\"\"\n",
    "\n",
    "df= ph.read_clickhouse(query, connection=connection)\n",
    "\n",
    "global_ctr_1 = df[df.exp_group == 1].likes.sum()/df[df.exp_group == 1].views.sum()\n",
    "global_ctr_2 = df[df.exp_group == 2].likes.sum()/df[df.exp_group == 2].views.sum()\n",
    "\n",
    "\n",
    "sample_1 = df[df.exp_group == 1].ctr.copy()\n",
    "sample_2 = df[df.exp_group == 2].ctr.copy()\n",
    "\n",
    "sample_1['smoothed_ctr'] = df.apply(lambda x: get_smothed_ctr(x['likes'], x['views'], global_ctr_1, 5), axis=1)\n",
    "sample_2['smoothed_ctr'] = df.apply(lambda x: get_smothed_ctr(x['likes'], x['views'], global_ctr_2, 5), axis=1)"
   ]
  },
  {
   "cell_type": "code",
   "execution_count": 15,
   "id": "846dd7c8-45eb-466c-9cb6-36f6bef8d0e2",
   "metadata": {},
   "outputs": [
    {
     "name": "stdout",
     "output_type": "stream",
     "text": [
      "проверяем гипотезу по Стьюденту\n",
      "количество совпадающих значений в выборке 2702\n",
      "количество совпадающих значений в выборке 2702\n"
     ]
    }
   ],
   "source": [
    "can_we_use_t_test(sample_1.smoothed_ctr.values, sample_2.smoothed_ctr.values)\n",
    "\n",
    "can_we_use_Mann_2([sample_1.smoothed_ctr, sample_2.smoothed_ctr])"
   ]
  },
  {
   "cell_type": "markdown",
   "id": "ae889aed-da5f-44b0-951a-f2beffeb41d1",
   "metadata": {},
   "source": [
    "[К оглавлению](#root)\n",
    "\n",
    "\n",
    "\n",
    "<a id='9'></a> Классно. Мы можем проверить нашу гипотезу и t-тестом. Сделаем это и не забудем, что наша нулевая гипотеза не о равенстве средних, а о том, что CTR в группе 2 больше чем в группе 1. "
   ]
  },
  {
   "cell_type": "code",
   "execution_count": 16,
   "id": "1a47a3fa-766c-45de-94e5-ccd25175df38",
   "metadata": {},
   "outputs": [
    {
     "name": "stdout",
     "output_type": "stream",
     "text": [
      "проверяем гипотезу по Стьюденту\n",
      "вероятность случайно получить такие или еще большие отличая средних - 85.33%\n"
     ]
    }
   ],
   "source": [
    "print('проверяем гипотезу по Стьюденту')\n",
    "print('вероятность случайно получить такие или еще большие отличая средних - {:.2%}'.format(\n",
    "                                                                                            stats.ttest_ind(\n",
    "                                                                                            sample_1.smoothed_ctr.values,\n",
    "                                                                                            sample_2.smoothed_ctr.values, \n",
    "                                                                                            alternative='less').pvalue)\n",
    "                                                                                             )\n"
   ]
  },
  {
   "cell_type": "markdown",
   "id": "89da335e-3d11-4633-9776-0c409ff8ae46",
   "metadata": {},
   "source": [
    "Тут бы мы могли и остановиться, сказав, что-то вроде \"Ну все, мы не можем подтвердить на уровне значимости в 0.05 то, что после введения нового рекомендательного алгоритма CTR- вырос\". Но, как всегда, есть два \"но\": \n",
    "- первое (относится к нашему случаю): результаты нашего теста зависят от выбора константы сглаживание - не хорошо это, где есть константы там есть субъективизация\n",
    "- второе (относится к случаю, когда тесты красятся, но не нашему): нет никаких теоретических гарантий на тест проведенный поверх сглаженного CTR, что направления изменения сглаженного и реального CTR будут сонаправленны. Другими словами - мы можем использовать этот метод, но только на свой страх и риск. Мы не можем гарантировать, что получив на сглаженном CTR оценку в минус на реальном CTR мы не получим оценку в плюс (и наоборот).\n",
    "\n",
    "Поэтому, вместо того, чтобы сглаживать CTR по пользователям - попробуем ~~\"серебрянную пулю\"~~ сагрегировать его по группам и использовать бутстреп, т.е. генерировать из наших выборок подвыборки с возвращением длинны наших выборок. Если мы будем после каждой генерации подвыборок считать средние значения по подвыборкам и запоминать их, то на выходе получим распределения средних, которое по закону больших чисел будет с достаточной степенью описывать среднее генеральной совокупности (а еще получим возможность стоить доверительный интервал). \n",
    "\n",
    "Однако, этот метод работает оооочень долго на больших выборках, поэтому чтобы его ускорить можем не генерировать подвыборки с возвращением, а считать, сколько раз каждый из элементов попадет в выборку - это будет быстрее. В итоге получим биномиальное распределение и его проблема будет заключаться в том, что если мы сложим все частоты попадания элементов в выборку - мы можем получить сумму частот больше длинны выборки (это конечно будет небольшая погрешность, но она будет). \n",
    "\n",
    "[К оглавлению](#root)\n",
    "\n",
    "\n",
    "<a id='10'></a> \n",
    "Нам также известно, что при достаточно большом размере выбокри биномиальное распределение вида \n",
    "$$binomial(n, 1/n) = Poisson(1)$$ \n",
    "т.е. переходит в расспределение Пуасона, а оно не зависит от длинны выборки, что позволяет значительно ускорить процесс бутстрапа "
   ]
  },
  {
   "cell_type": "code",
   "execution_count": 17,
   "id": "be598051-09dc-48f0-91db-f84b2dc53d33",
   "metadata": {},
   "outputs": [
    {
     "data": {
      "text/plain": [
       "<AxesSubplot:ylabel='Count'>"
      ]
     },
     "execution_count": 17,
     "metadata": {},
     "output_type": "execute_result"
    },
    {
     "data": {
      "image/png": "[encoded data removed]",
      "text/plain": [
       "<Figure size 842.4x595.44 with 1 Axes>"
      ]
     },
     "metadata": {},
     "output_type": "display_data"
    }
   ],
   "source": [
    "def bootstrap(likes1, views1, likes2, views2, n_bootstrap=10000):\n",
    "    \"\"\"\n",
    "    bootstrap(likes1, views1, likes2, views2, n_bootstrap=10000)\n",
    "    функция Пуассоновского бутстрепа.\n",
    "    Возвращает глобальные CTR первой и второй выборок расчитанные на n_bootstrap количестве подвыборок и исходных выборок\n",
    "    \"\"\"\n",
    "\n",
    "    poisson_bootstraps1 = stats.poisson(1).rvs(\n",
    "        (n_bootstrap, len(likes1))).astype(np.int64)\n",
    "\n",
    "    poisson_bootstraps2 = stats.poisson(1).rvs(\n",
    "            (n_bootstrap, len(likes2))).astype(np.int64)\n",
    "    \n",
    "    globalCTR1 = (poisson_bootstraps1*likes1).sum(axis=1)/(poisson_bootstraps1*views1).sum(axis=1)\n",
    "    \n",
    "    globalCTR2 = (poisson_bootstraps2*likes2).sum(axis=1)/(poisson_bootstraps2*views2).sum(axis=1)\n",
    "\n",
    "    return globalCTR1, globalCTR2\n",
    "\n",
    "likes1 = df[df.exp_group == 1].likes.to_numpy()\n",
    "views1 = df[df.exp_group == 1].views.to_numpy()\n",
    "likes2 = df[df.exp_group == 2].likes.to_numpy()\n",
    "views2 = df[df.exp_group == 2].views.to_numpy()\n",
    "\n",
    "ctr1, ctr2 = bootstrap(likes1, views1, likes2, views2)\n",
    "\n",
    "sns.histplot(ctr1, color='red')\n",
    "sns.histplot(ctr2)"
   ]
  },
  {
   "cell_type": "markdown",
   "id": "922212b8-481a-4ad5-8ede-e33991de0a21",
   "metadata": {},
   "source": [
    "Не плохо, мы явно видем, что наши распределения не пересекаются. Но разность бутстрап-ctr второй и первой группы явно отрицательная, а значит алгоритм рекомендаций, все-таки, не работает и ухудшает CTR"
   ]
  },
  {
   "cell_type": "code",
   "execution_count": 18,
   "id": "079eacc3-7faa-4b6d-ba80-393914a7e732",
   "metadata": {},
   "outputs": [
    {
     "data": {
      "text/plain": [
       "<AxesSubplot:ylabel='Count'>"
      ]
     },
     "execution_count": 18,
     "metadata": {},
     "output_type": "execute_result"
    },
    {
     "data": {
      "image/png": "[encoded data removed]",
      "text/plain": [
       "<Figure size 842.4x595.44 with 1 Axes>"
      ]
     },
     "metadata": {},
     "output_type": "display_data"
    }
   ],
   "source": [
    "sns.histplot(ctr2 - ctr1)"
   ]
  },
  {
   "cell_type": "markdown",
   "id": "f01643c4-fbd7-4cc3-b4f3-b5add1a89092",
   "metadata": {},
   "source": [
    "[К оглавлению](#root)\n",
    "\n",
    "\n",
    "<a id='11'></a> \n",
    "Также, можно применить логику бутстрепа, но с другой стороны и попробовать протестировать гипотезу методом бакетного преобразования.\n",
    "Этот метод широко используется в индустрии (промышленные системы А/В-тестирования, такие как у Яндекса или VK) потому как он значительно быстрее бутстрапа.\n",
    "\n",
    "Суть данного метода заключается в том, что мы разбиваем каждую из наших выборок на k-корзин, в каждой из которых равное количество пользователей и рассматриваем каждую корзину как \"1 мета-пользователя\". Таким образом мы момжем почтитать среднее (или любой другой показатель) внутри каждого бакета и получить выборку из k- элементов интересующего нас показателя для каждой из выборок, которые у нас есть в начале. А уже к этим выборкам из k-элементов мы можем применить t-тест или критерий Манна-Уитни.\n",
    "\n",
    "При использовании этого метода нам нужно, чтобы соблюдались 2 условия:\n",
    "- пользователь может принадлежать только к 1 бакету\n",
    "- пользователи по бакетам должны быть распределены +/- равномерно\n",
    "\n",
    "Эти условия очень напоминают условия разбиения пользователей на группы при подготовке к А/А тестированию, поэтому тут тоже можно использовать хэширование с солью.\n",
    "\n",
    "Также у нас есть проблема с выбором количества пользователей в корзине (в мета-пользователе). Как и в случае со сглаженным CTR - выбор константы может повлиять на результат. Поэтому, чтобы избежать этого будем смотреть на лучшие практики в индустрии: во-первых, если их применяют - значит их как-то проверяли, во-вторых - попробуем разобраться почему именно их. В индустрии обычно берут количество корзин равное 100 или 200. Почему? Потому что согласно ЦПТ с ростом числа элементов в выборке ее среднее сходятся к истиному среднему, а на практике мы можем убедиться, что сходятся оно достаточно быстро и при размере выборки в 100 или 200 мы получим распределение похожее на нормальное.\n",
    "\n",
    "Таким образом, поделим наши выборки на 50 корзин (10к пользователей по 200 пользователей в бакете - это 50 бакетов), и сравним средние значения CTR мета-пользователей."
   ]
  },
  {
   "cell_type": "code",
   "execution_count": 19,
   "id": "cff92472-cf80-4fb5-b603-7307e4bb642f",
   "metadata": {},
   "outputs": [],
   "source": [
    "query = \"\"\"\n",
    "SELECT \n",
    "    exp_group, \n",
    "    bucket,\n",
    "    sum(likes)/sum(views) as bucket_ctr\n",
    "FROM (\n",
    "    SELECT exp_group,\n",
    "        xxHash64(user_id)%50 as bucket,\n",
    "        user_id,\n",
    "        sum(action = 'like') as likes,\n",
    "        sum(action = 'view') as views,\n",
    "        likes/views as ctr\n",
    "    FROM {db}.feed_actions\n",
    "    WHERE \n",
    "        toDate(time) between '2022-04-04' and '2022-04-10'\n",
    "        and exp_group in (1,2)\n",
    "    GROUP BY \n",
    "        exp_group, bucket, user_id\n",
    ")\n",
    "GROUP BY exp_group, bucket\n",
    "\"\"\"\n",
    "\n",
    "df = ph.read_clickhouse(query, connection=connection)\n"
   ]
  },
  {
   "cell_type": "code",
   "execution_count": 20,
   "id": "5fdae01f-10c0-4888-8f6d-5c5bd4fe3bc8",
   "metadata": {},
   "outputs": [
    {
     "name": "stdout",
     "output_type": "stream",
     "text": [
      "следует выбрать другой критерий\n"
     ]
    }
   ],
   "source": [
    "can_we_use_t_test(df[df.exp_group == 1].bucket_ctr.values, df[df.exp_group == 2].bucket_ctr.values)"
   ]
  },
  {
   "cell_type": "code",
   "execution_count": 21,
   "id": "8e859647-2e3b-44b2-9b1c-9f17e95d4954",
   "metadata": {},
   "outputs": [
    {
     "name": "stdout",
     "output_type": "stream",
     "text": [
      "количество совпадающих значений в выборке 0\n",
      "количество совпадающих значений в выборке 0\n"
     ]
    }
   ],
   "source": [
    "can_we_use_Mann_2([df[df.exp_group == 1].bucket_ctr, df[df.exp_group == 2].bucket_ctr])"
   ]
  },
  {
   "cell_type": "markdown",
   "id": "71965563-b2d5-4db9-829d-e910c3375290",
   "metadata": {},
   "source": [
    "Отлично, условия применимости Манна-Утни выполнены."
   ]
  },
  {
   "cell_type": "code",
   "execution_count": 22,
   "id": "8cdd28a0-235b-4eef-a96d-9a93765b0b56",
   "metadata": {},
   "outputs": [
    {
     "name": "stdout",
     "output_type": "stream",
     "text": [
      "в 79.16% случаев значение CTR взятое из 1 группы больше значения CTR из второй. Должно получиться в райне 50%\n"
     ]
    }
   ],
   "source": [
    "can_we_use_Mann(df[df.exp_group == 1].bucket_ctr, df[df.exp_group == 2].bucket_ctr, 10000)"
   ]
  },
  {
   "cell_type": "code",
   "execution_count": 23,
   "id": "fe2a47dc-a40f-44bb-9f65-69ce05b5eb7d",
   "metadata": {},
   "outputs": [
    {
     "data": {
      "text/plain": [
       "2.859963936492646e-07"
      ]
     },
     "execution_count": 23,
     "metadata": {},
     "output_type": "execute_result"
    }
   ],
   "source": [
    "stats.mannwhitneyu(\n",
    "                    df[df.exp_group == 1].bucket_ctr,\n",
    "                    df[df.exp_group == 2].bucket_ctr, \n",
    "                    alternative='two-sided').pvalue"
   ]
  },
  {
   "cell_type": "markdown",
   "id": "ce3cab1c-396e-452e-93d0-87ea996baf8c",
   "metadata": {},
   "source": [
    "Отлично! Бакетное преобразование подтвердило результаты Пуассоновского бутстрепа: на уровне значимости в 0.05 бакетный CTR пользователей из 1 группы больше аналогичного показателя пользователей из 2 группы. При этом у нас близкая к нулю вероятность получения такого или еще более значимого различия между группами. \n",
    "\n",
    "[К оглавлению](#root)"
   ]
  },
  {
   "cell_type": "markdown",
   "id": "8c9353db-485d-476b-ab25-bd747bc7042a",
   "metadata": {},
   "source": [
    "## Вывод А/B- тестирования <a id='12'></a> \n",
    "\n",
    "Мы проверили нашу гипотезу о том, что CTR пользователей второй группы (в которой был применен новый алгоритм) возрастает относительно первой (контрольной) группы. Проверка происходила методом Пуассоновского бутстрапа и бакетоного преобразования. Проверка выявила, что мы не можем принять нашу  гипотезу, более того, согласно данным и Пуассоновского бутстрепа и бакетного преобразования - CTR второй группы даже падает. ***Этот алгоритм рекомендации нельзя выкатывать в прод.***\n",
    "\n",
    "Также мы пытались проверять гипотезу следующими методами:\n",
    "- t-тест на чистых данных (не соблюдаются условия применимости t-теста, скорее всего из-за бимодальности распределения тестовой группы нарушается условие гомоскедостичности дисперсии)\n",
    "- Манн-Уитни на чистых данных (не соблюдаются условия применимости теста)\n",
    "- t-тест на сглаженных по Лапласу данных (результаты зависят от константы сглаживания, нет теоретических гарантий на соноправленность результатов теста запущенного поверх сглаженной метрики) \n",
    "\n",
    "[К оглавлению](#root)"
   ]
  },
  {
   "cell_type": "markdown",
   "id": "0157fd9c-f3ac-4b42-b0b3-173f097e2556",
   "metadata": {},
   "source": [
    "# Еще один тест результатов A/B - тестирования <a id='13'></a> "
   ]
  },
  {
   "cell_type": "markdown",
   "id": "19bd1c09-713e-46e5-9107-a9151381ca5d",
   "metadata": {},
   "source": [
    "Есть огромное количество полезных материалов на тему того, какие еще способы проверки гипотез можно применять к метрикам отношений, например материалы Никиты Маршалкина <a href='https://vkteam.medium.com/practitioners-guide-to-statistical-tests-ed2d580ef04f#d2d3'>например материалы Никиты Маршалкина</a>  . или его <a href = 'https://www.youtube.com/watch?v=gljfGAkgX_o&t=19s'>интервью</a>.\n",
    "\n",
    "Относительно недавно (в 2018-м году) исследователи из Яндекса разработали классный метод анализа тестов над метриками-отношениями (прямо как у нас) вида  \n",
    "$$\\frac{x}{y}$$ в нашем случае $$ctr = \\frac{likes}{views}$$\n",
    "\n",
    "Идея метода заключается в следующем:\n",
    "\n",
    "Вместо того, чтобы использовать поюзерные CTR, можно сконструировать другую метрику и анализировать ее, но при этом гарантируется (в отличие от сглаженного CTR), что если мы увидим изменения на этой новой метрики, то изменения есть и в исходной метрик (т.е. в поюзерном CTR)\n",
    "\n",
    "Алгоритм метода прост:\n",
    "\n",
    "1) считается общий CTR в контрольной группе  $$CTR_{control} = \\frac{\\sum(likes)}{\\sum(views)}$$\n",
    "\n",
    "2) в контрольно и тестовой группах считается поюзерная метрика в $$linearized\\_likes = likes - CTR_{control} \\times {views} $$ \n",
    "\n",
    "3) сравнивается t-тестом linearized_likes контрольной и тестовой группы"
   ]
  },
  {
   "cell_type": "code",
   "execution_count": 24,
   "id": "d5a7581f-66a3-45fe-8e2a-6aa1d090ed64",
   "metadata": {},
   "outputs": [
    {
     "name": "stdout",
     "output_type": "stream",
     "text": [
      "вероятность случайно получить такие или еще большие отличая средних - 100.00% при условии проверки гипотезы о том, что наш CTR вырос\n",
      "вероятность случайно получить такие или еще большие отличая средних - 0.00% при условии проверки гипотезы о том, что наш CTR упал\n",
      "вероятность случайно получить такие или еще большие отличая средних - 0.00% при условии проверки гипотезы о том, что наш CTR отличается\n"
     ]
    }
   ],
   "source": [
    "query = '''\n",
    "SELECT \n",
    "    exp_group, \n",
    "    user_id,\n",
    "    sum(action = 'like') as likes,\n",
    "    sum(action = 'view') as views,\n",
    "    likes/views as ctr\n",
    "FROM {db}.feed_actions \n",
    "WHERE toDate(time) between '2022-04-04' and '2022-04-10'\n",
    "    and exp_group in (1,2)\n",
    "GROUP BY exp_group, user_id\n",
    "'''\n",
    "\n",
    "df = ph.read_clickhouse(query, connection=connection)\n",
    "\n",
    "ctr_control = df[df['exp_group']==1].likes.sum()/df[df['exp_group']==1].views.sum()\n",
    "#𝑙𝑖𝑛𝑒𝑎𝑟𝑖𝑧𝑒𝑑_𝑙𝑖𝑘𝑒𝑠=𝑙𝑖𝑘𝑒𝑠−𝐶𝑇𝑅𝑐𝑜𝑛𝑡𝑟𝑜𝑙∗𝑣𝑖𝑒𝑤𝑠\n",
    "linearized_likes_control = df[df['exp_group']==1].likes - ctr_control * df[df['exp_group']==1].views\n",
    "linearized_likes_test = df[df['exp_group']==2].likes - ctr_control * df[df['exp_group']==2].views\n",
    "\n",
    "\n",
    "\n",
    "print('вероятность случайно получить такие или еще большие отличая средних - {:.2%} при условии проверки гипотезы о том, что наш CTR вырос'.format(\n",
    "                                                                                            stats.ttest_ind(\n",
    "                                                                                            linearized_likes_control.values,\n",
    "                                                                                            linearized_likes_test.values, \n",
    "                                                                                            alternative='less').pvalue)\n",
    "                                                                                             )\n",
    "\n",
    "print('вероятность случайно получить такие или еще большие отличая средних - {:.2%} при условии проверки гипотезы о том, что наш CTR упал'.format(\n",
    "                stats.ttest_ind(\n",
    "                linearized_likes_test.values, \n",
    "                linearized_likes_control.values,\n",
    "                alternative='less').pvalue))\n",
    "\n",
    "print('вероятность случайно получить такие или еще большие отличая средних - {:.2%} при условии проверки гипотезы о том, что наш CTR отличается'.format(\n",
    "                stats.ttest_ind(\n",
    "                linearized_likes_test.values, \n",
    "                linearized_likes_control.values,\n",
    "                alternative='two-sided').pvalue)) "
   ]
  },
  {
   "cell_type": "markdown",
   "id": "56570c73-6164-423b-a6ab-20a2cf72f2a3",
   "metadata": {},
   "source": [
    "Как видно из результатов - данный способ хорошо работает и тоже подтвержает результаты Пуассоновского бутстрапа и бакетного преобразования. При этом p-value стали еще более уверенные.\n",
    "\n",
    "[К оглавлению](#root)"
   ]
  }
 ],
 "metadata": {
  "kernelspec": {
   "display_name": "Python 3 (ipykernel)",
   "language": "python",
   "name": "python3"
  },
  "language_info": {
   "codemirror_mode": {
    "name": "ipython",
    "version": 3
   },
   "file_extension": ".py",
   "mimetype": "text/x-python",
   "name": "python",
   "nbconvert_exporter": "python",
   "pygments_lexer": "ipython3",
   "version": "3.8.10"
  }
 },
 "nbformat": 4,
 "nbformat_minor": 5
}
