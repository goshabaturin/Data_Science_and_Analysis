{
 "cells": [
  {
   "cell_type": "markdown",
   "id": "3d0fba8d-90f0-484d-875d-d5d511374e43",
   "metadata": {},
   "source": [
    "# ТЗ:\n",
    "Необходимо создать систему алёртов для приложения.\n",
    "Система должна с периодичность каждые 15 минут проверять ключевые метрики: \n",
    "- активные пользователи в ленте / мессенджере;\n",
    "- просмотры;\n",
    "- лайки;\n",
    "- CTR;\n",
    "- количество отправленных сообщений. \n",
    "\n",
    "В случае обнаружения аномального значения, в чат должен отправиться алерт - сообщение со следующей информацией: \n",
    "    ```метрика, ее значение, величина отклонения```.\n",
    "    \n",
    "В сообщение лучше добавить дополнительную информацию, которая поможет при исследовании причин возникновения аномалии.\n"
   ]
  },
  {
   "cell_type": "code",
   "execution_count": 1,
   "id": "4c855eb9-c8b3-4b1b-bcd3-edf6998cd2f2",
   "metadata": {},
   "outputs": [],
   "source": [
    "import pandas as pd\n",
    "import matplotlib.pyplot as plt\n",
    "import seaborn as sns\n",
    "import telegram\n",
    "import pandahouse\n",
    "from datetime import date, timedelta\n",
    "import io\n",
    "import sys\n",
    "import os\n",
    "import loggins_and_passwords as connect\n",
    "from IPython.display import display"
   ]
  },
  {
   "cell_type": "markdown",
   "id": "4f0efb0e",
   "metadata": {},
   "source": [
    "Разработаем прототип системы, а затем напишем скрипт, который будем автоматически запускать раз в 15 минут с помощью GitLab CI/CD."
   ]
  },
  {
   "cell_type": "markdown",
   "id": "d590197d-1794-4a9d-8bfa-131bfb30cdfc",
   "metadata": {},
   "source": [
    "***Сначала разработаем общую концепцию и проверим ее.***"
   ]
  },
  {
   "cell_type": "code",
   "execution_count": 2,
   "id": "990b9728-6f86-4966-8342-656ba01a5191",
   "metadata": {},
   "outputs": [],
   "source": [
    "connection = {\n",
    "    'host': connect.host,         #os.environ.get(\"db_host\"),\n",
    "    'password': connect.password, #os.environ.get(\"db_password\"),\n",
    "    'user': connect.user          #os.environ.get(\"db_login\")\n",
    "}\n",
    "\n",
    "def db_to_dataframe(query, connection):\n",
    "    \"\"\"\n",
    "    db_to_dataframe(query, connection=connection)\n",
    "    возвращает объект DataFrame выгруженный из базы.\n",
    "    Параметры подключения к базе определены в переменной connection\n",
    "    \"\"\"\n",
    "    return pandahouse.read_clickhouse(query, connection=connection)"
   ]
  },
  {
   "cell_type": "markdown",
   "id": "bf8087ce-a487-43b2-94c3-a96181a0a381",
   "metadata": {},
   "source": [
    "Выгрузим данные по количеству пользователей ленты новостей, в разрезе 5 минут."
   ]
  },
  {
   "cell_type": "code",
   "execution_count": 3,
   "id": "697676c1-a4ea-40a2-968c-0ee14d6b941d",
   "metadata": {},
   "outputs": [],
   "source": [
    "\n",
    "query = '''\n",
    "SELECT \n",
    "    toStartOfInterval(toDateTime(time), INTERVAL 15 minute) AS time,\n",
    "    count(DISTINCT user_id) AS cnt_users\n",
    "FROM \n",
    "    {db}.feed_actions\n",
    "WHERE     \n",
    "    time >=  today() - INTERVAL 1 month and time < toStartOfInterval(now(), INTERVAL 15 minute)\n",
    "GROUP BY \n",
    "    time\n",
    "ORDER BY \n",
    "    time DESC\n",
    "'''\n",
    "\n",
    "df = db_to_dataframe(query, connection)"
   ]
  },
  {
   "cell_type": "markdown",
   "id": "ad8a3564-a21e-42a5-ac97-3104a20a93a9",
   "metadata": {},
   "source": [
    "Найдем последний известный таймстемп, а так же таймстепы соотвественной пятиминутки в каждом дней месяца назад"
   ]
  },
  {
   "cell_type": "code",
   "execution_count": 4,
   "id": "12af81f9-8f46-4f00-bc0b-da9d69c350a3",
   "metadata": {},
   "outputs": [],
   "source": [
    "current_time = df.time.max()\n",
    "\n",
    "# для теста\n",
    "#current_time = df[df.time == '2022-05-04 23:55:00'].time.max()"
   ]
  },
  {
   "cell_type": "code",
   "execution_count": 5,
   "id": "6aab3307-0b25-4c7d-81aa-2e5549c9eb93",
   "metadata": {},
   "outputs": [],
   "source": [
    "first_day_of_current_month = current_time.replace(day=1)\n",
    "last_day_of_previous_month = first_day_of_current_month - timedelta(days=1)\n",
    "start_of_period = last_day_of_previous_month.replace(day = current_time.day)\n",
    "\n",
    "delta = timedelta(days=1)\n",
    "\n",
    "dates = []\n",
    "while start_of_period <= current_time:\n",
    "    dates.append(start_of_period)\n",
    "    start_of_period += delta                            "
   ]
  },
  {
   "cell_type": "markdown",
   "id": "e078a13a-3891-4607-bc2e-cfb72a97379e",
   "metadata": {},
   "source": [
    "Возьмем значения соответствующие этим таймстемпам"
   ]
  },
  {
   "cell_type": "code",
   "execution_count": 6,
   "id": "69864abf-f335-44bd-af42-427dd9f32e09",
   "metadata": {},
   "outputs": [],
   "source": [
    "data = df[df.time.isin(dates)]"
   ]
  },
  {
   "cell_type": "markdown",
   "id": "d1ce64f0-2834-4f72-8ad4-25812c2366c7",
   "metadata": {},
   "source": [
    "Определим границы, в пределах которых значение метрики не будет считаться выбросом"
   ]
  },
  {
   "cell_type": "code",
   "execution_count": 7,
   "id": "440e1320-6862-4f77-9de3-3a1f7e6524b1",
   "metadata": {},
   "outputs": [],
   "source": [
    "def alert_intervals(df, column):\n",
    "    \n",
    "    first_quantile = df[column].quantile(0.25)\n",
    "    third_quantile = df[column].quantile(0.75)\n",
    "    iqr = third_quantile - first_quantile\n",
    "    \n",
    "    interval_low = first_quantile - 1.96* iqr\n",
    "    interval_high = third_quantile + 1.96* iqr\n",
    "        \n",
    "    return(interval_low, interval_high)\n",
    "\n",
    "column = 'cnt_users'\n",
    "low, high = alert_intervals(data, column)\n",
    "\n"
   ]
  },
  {
   "cell_type": "markdown",
   "id": "ae957bb4-a621-473e-a873-642113af66da",
   "metadata": {},
   "source": [
    "Сравним текущее значение с границами нормальности"
   ]
  },
  {
   "cell_type": "code",
   "execution_count": 8,
   "id": "fe2d7c0a-7720-4d58-a8aa-d2c17d7f4cc6",
   "metadata": {},
   "outputs": [
    {
     "data": {
      "text/plain": [
       "False"
      ]
     },
     "execution_count": 8,
     "metadata": {},
     "output_type": "execute_result"
    }
   ],
   "source": [
    "current_value = data['cnt_users'].head(1).iloc[0]\n",
    "\n",
    "if current_value < low or current_value > high:\n",
    "    alert = True\n",
    "else:\n",
    "    alert = False\n",
    "alert"
   ]
  },
  {
   "cell_type": "markdown",
   "id": "0289a55d-b49c-4ef8-81ba-88036e8bfd83",
   "metadata": {},
   "source": [
    "Вот уже и вырисовалась простенькая моделька детекции. Соберем все в функцию, чтобы передавать только метрики и данные, а в ответ получать сигнал."
   ]
  },
  {
   "cell_type": "code",
   "execution_count": 9,
   "id": "335857f0-2abc-4909-b633-e68fad1fa59f",
   "metadata": {},
   "outputs": [],
   "source": [
    "def is_alert(query, connection, metric, chart=False, dashbord=False):\n",
    "    \n",
    "    df = db_to_dataframe(query, connection)\n",
    "    \n",
    "    current_time = df.time.max()\n",
    "    first_day_of_current_month = current_time.replace(day=1)\n",
    "    last_day_of_previous_month = first_day_of_current_month - timedelta(days=1)\n",
    "    start_of_period = last_day_of_previous_month.replace(day = current_time.day)\n",
    "\n",
    "    delta = timedelta(days=1)\n",
    "\n",
    "    dates = []\n",
    "    while start_of_period <= current_time:\n",
    "        dates.append(start_of_period)\n",
    "        start_of_period += delta   \n",
    "        \n",
    "    data = df[df.time.isin(dates)]\n",
    "    \n",
    "    low, high = alert_intervals(data, metric)\n",
    "    \n",
    "    current_value = data[metric].head(1).iloc[0]\n",
    "\n",
    "    if current_value < low or current_value > high:\n",
    "        alert = True\n",
    "    else:\n",
    "        alert = False\n",
    "    \n",
    "    \n",
    "    mean_val = data[metric].mean()\n",
    "    \n",
    "    \n",
    "    \n",
    "    if alert:\n",
    "    \n",
    "        if current_value<low: \n",
    "            direction = 'вниз'\n",
    "        else: \n",
    "            direction = 'вверх'\n",
    "        \n",
    "        msg = f'''\n",
    "        Метрика {metric}. \n",
    "        Текущее значение {current_value}. \n",
    "        Отклонение от среднего более {round(abs((current_value-mean_val)/mean_val)*100,2)}% {direction}.\n",
    "        '''\n",
    "        \n",
    "        if chart:\n",
    "            msg = msg+f'''Ссылка на риалтайм чарт в BI: {chart}'''\n",
    "        \n",
    "        if dashbord:\n",
    "            msg = msg+f'''\\n\\tСсылка на риалтайм дашборд в BI: {dashbord}'''\n",
    "        \n",
    "        print(msg)\n",
    "        \n",
    "        sns.lineplot(data=data.iloc[:,:280], x='time', y=metric)\n",
    "        plt.xticks([])\n",
    "        plt.title(f'{metric} за последние сутки')\n",
    "        plt.show()\n",
    "        \n",
    "    else:\n",
    "        print(current_time, metric, \n",
    "              'low bound: ',round(float(low),2), \n",
    "              'upper bound: ',round(float(high),2), \n",
    "              'mean value: ',round(float(mean_val),2), \n",
    "              'current value: ',round(float(current_value),2))"
   ]
  },
  {
   "cell_type": "markdown",
   "id": "68ffe651-9884-483c-9edc-4822a4719523",
   "metadata": {},
   "source": [
    "Ну и протестируем. Мы знаем, что был выброс вверх по количеству пользователей ленты новостей после '2022-05-04 23:40:00' до '2022-05-05 00:10:00'\n",
    "вот на этом промежутке и проверим, как мы детектируес выбросы"
   ]
  },
  {
   "cell_type": "code",
   "execution_count": 10,
   "id": "dd1f55c8-221b-467f-ace6-bf136f85b60b",
   "metadata": {},
   "outputs": [
    {
     "name": "stdout",
     "output_type": "stream",
     "text": [
      "\n",
      "        Метрика feed_active_users в пятиминутном разрезе. \n",
      "        Текущее значение 774. \n",
      "        Отклонение от среднего более 303.12% вверх.\n",
      "        Ссылка на риалтайм чарт в BI: http://superset.lab.karpov.courses/r/982\n",
      "\tСсылка на риалтайм дашборд в BI: https://superset.lab.karpov.courses/superset/dashboard/734/\n"
     ]
    },
    {
     "data": {
      "image/png": "[encoded data removed]",
      "text/plain": [
       "<Figure size 432x288 with 1 Axes>"
      ]
     },
     "metadata": {
      "needs_background": "light"
     },
     "output_type": "display_data"
    }
   ],
   "source": [
    "query = '''\n",
    "SELECT \n",
    "    toStartOfInterval(toDateTime(time), INTERVAL 15 minute) AS time,\n",
    "    count(DISTINCT user_id) AS feed_active_users\n",
    "FROM \n",
    "    {db}.feed_actions\n",
    "WHERE     \n",
    "    time >=  today() - INTERVAL 1 month and time < '2022-05-05 00:05:00'--toStartOfInterval(now(), INTERVAL 15 minute)\n",
    "GROUP BY \n",
    "    time\n",
    "ORDER BY \n",
    "    time DESC\n",
    "'''\n",
    "\n",
    "chart = 'http://superset.lab/r/982'\n",
    "dashbord = 'https://superset.lab/superset/dashboard/734/'\n",
    "\n",
    "is_alert(query, connection, 'feed_active_users', chart, dashbord)\n",
    "\n",
    "\n",
    "\n"
   ]
  },
  {
   "cell_type": "markdown",
   "id": "3965f016-f972-4f20-990d-2bb8370b7b13",
   "metadata": {},
   "source": [
    "Логично, что если есть скачек пользователей, то должен быть скачек просмотров, а если не нарушился ctr, то должен быть и скачек лайков. Если скачка лайков не было, то должна быть аномалия по CTR. Проверим это"
   ]
  },
  {
   "cell_type": "code",
   "execution_count": 11,
   "id": "1ea48665-ef5d-4e57-8b6b-cb0a53e84254",
   "metadata": {},
   "outputs": [
    {
     "name": "stdout",
     "output_type": "stream",
     "text": [
      "\n",
      "        Метрика feed_likes в пятиминутном разрезе. \n",
      "        Текущее значение 1064. \n",
      "        Отклонение от среднего более 136.93% вверх.\n",
      "        Ссылка на риалтайм чарт в BI: http://superset.lab.karpov.courses/r/986\n",
      "\tСсылка на риалтайм дашборд в BI: https://superset.lab.karpov.courses/superset/dashboard/734/\n"
     ]
    },
    {
     "data": {
      "image/png": "[encoded data removed]",
      "text/plain": [
       "<Figure size 432x288 with 1 Axes>"
      ]
     },
     "metadata": {
      "needs_background": "light"
     },
     "output_type": "display_data"
    },
    {
     "name": "stdout",
     "output_type": "stream",
     "text": [
      "\n",
      "        Метрика feed_views в пятиминутном разрезе. \n",
      "        Текущее значение 5524. \n",
      "        Отклонение от среднего более 152.48% вверх.\n",
      "        Ссылка на риалтайм чарт в BI: http://superset.lab.karpov.courses/r/985\n",
      "\tСсылка на риалтайм дашборд в BI: https://superset.lab.karpov.courses/superset/dashboard/734/\n"
     ]
    },
    {
     "data": {
      "image/png": "[encoded data removed]",
      "text/plain": [
       "<Figure size 432x288 with 1 Axes>"
      ]
     },
     "metadata": {
      "needs_background": "light"
     },
     "output_type": "display_data"
    },
    {
     "name": "stdout",
     "output_type": "stream",
     "text": [
      "2022-05-04 23:55:00 feed_ctr low bound:  0.16 upper bound:  0.25 mean value:  0.21 current value:  0.19\n"
     ]
    }
   ],
   "source": [
    "query = '''\n",
    "SELECT time time,\n",
    "               SUMIf(cnt_actions, action ='like') feed_likes,\n",
    "               SUMIf(cnt_actions, action ='view') feed_views,\n",
    "               feed_likes/feed_views feed_ctr\n",
    "   FROM\n",
    "     (SELECT \n",
    "        toStartOfInterval(time, INTERVAL 15 minute) time,\n",
    "        action,\n",
    "        count(action) cnt_actions\n",
    "      FROM {db}.feed_actions\n",
    "      WHERE \n",
    "            time >=  today() - INTERVAL 1 month \n",
    "            and time < '2022-05-05 00:00:00'--toStartOfInterval(now(), INTERVAL 15 minute)\n",
    "      group by time,\n",
    "               action\n",
    "      ORDER BY time desc)\n",
    "   GROUP BY time\n",
    "   ORDER BY time desc\n",
    "'''\n",
    "\n",
    "chart = 'http://superset.lab/r/986'\n",
    "dashbord = 'https://superset.lab/superset/dashboard/734/'\n",
    "\n",
    "is_alert(query, connection, 'feed_likes',chart,dashbord)\n",
    "\n",
    "chart = 'http://superset.lab/r/985'\n",
    "is_alert(query, connection, 'feed_views', chart, dashbord )\n",
    "\n",
    "chart = 'http://superset.lab/r/987'\n",
    "is_alert(query, connection, 'feed_ctr',chart, dashbord)"
   ]
  },
  {
   "cell_type": "markdown",
   "id": "78f2a48b-b1cd-4ee3-a796-193336c1d232",
   "metadata": {},
   "source": [
    "также мы знаем, что за последний месяц в количестве пользователей мессенджера не было никаких выбросов"
   ]
  },
  {
   "cell_type": "code",
   "execution_count": 13,
   "id": "6b747543-0a56-43e8-aeb8-619a1db9148d",
   "metadata": {},
   "outputs": [
    {
     "name": "stdout",
     "output_type": "stream",
     "text": [
      "2022-05-07 16:45:00 message_active_users low bound:  88.02 upper bound:  151.98 mean value:  121.26 current value:  114.0\n",
      "2022-05-07 16:45:00 send_messages low bound:  146.06 upper bound:  214.94 mean value:  180.52 current value:  158.0\n"
     ]
    }
   ],
   "source": [
    "query = '''\n",
    "SELECT \n",
    "    toStartOfInterval(toDateTime(time), INTERVAL 15 minute) AS time,\n",
    "    count(DISTINCT user_id) AS message_active_users,\n",
    "    count(user_id) as send_messages\n",
    "FROM \n",
    "    {db}.message_actions\n",
    "WHERE     \n",
    "    time >=  today() - INTERVAL 1 month and time < toStartOfInterval(now(), INTERVAL 15 minute)\n",
    "GROUP BY \n",
    "    time\n",
    "ORDER BY \n",
    "    time DESC\n",
    "'''\n",
    "\n",
    "chart = 'http://superset.lab/r/992'\n",
    "dashbord = 'http://superset.lab/r/991'\n",
    "\n",
    "is_alert(query, connection, 'message_active_users', chart, dashbord)\n",
    "\n",
    "\n",
    "chart = 'http://superset.lab/r/990'\n",
    "is_alert(query, connection, 'send_messages', chart, dashbord)\n",
    "\n"
   ]
  },
  {
   "cell_type": "markdown",
   "id": "fc494991",
   "metadata": {},
   "source": [
    "Тогда вся наша система будет выглядеть"
   ]
  },
  {
   "cell_type": "code",
   "execution_count": null,
   "id": "5ca1bb8d",
   "metadata": {},
   "outputs": [],
   "source": [
    "import pandas as pd\n",
    "import matplotlib.pyplot as plt\n",
    "import seaborn as sns\n",
    "import telegram\n",
    "import pandahouse\n",
    "from datetime import date, timedelta\n",
    "import io\n",
    "import sys\n",
    "import os\n",
    "\n",
    "\n",
    "\n",
    "def db_to_dataframe(query):\n",
    "    \"\"\"\n",
    "    db_to_dataframe(query, connection=connection)\n",
    "    возвращает объект DataFrame выгруженный из базы.\n",
    "    Параметры подключения к базе определены в переменной connection\n",
    "    \"\"\"\n",
    "    \n",
    "    connection = {\n",
    "    'host': os.environ.get(\"db_host\"),\n",
    "    'password': os.environ.get(\"db_password\"),\n",
    "    'user': os.environ.get(\"db_login\")\n",
    "    }\n",
    "    \n",
    "    return pandahouse.read_clickhouse(query, connection=connection)\n",
    "\n",
    "def alert_intervals(df, column):\n",
    "    \n",
    "    first_quantile = df[column].quantile(0.25)\n",
    "    third_quantile = df[column].quantile(0.75)\n",
    "    iqr = third_quantile - first_quantile\n",
    "    \n",
    "    interval_low = first_quantile - 1.96* iqr\n",
    "    interval_high = third_quantile + 1.96* iqr\n",
    "        \n",
    "    return(interval_low, interval_high)\n",
    "\n",
    "\n",
    "def is_alert(query, metric, chart=False, dashbord=False):\n",
    "    \n",
    "    df = db_to_dataframe(query)\n",
    "    \n",
    "    current_time = df.time.max()\n",
    "    first_day_of_current_month = current_time.replace(day=1)\n",
    "    last_day_of_previous_month = first_day_of_current_month - timedelta(days=1)\n",
    "    start_of_period = last_day_of_previous_month.replace(day = current_time.day)\n",
    "\n",
    "    delta = timedelta(days=1)\n",
    "\n",
    "    dates = []\n",
    "    while start_of_period <= current_time:\n",
    "        dates.append(start_of_period)\n",
    "        start_of_period += delta   \n",
    "        \n",
    "    data = df[df.time.isin(dates)]\n",
    "    \n",
    "    low, high = alert_intervals(data, metric)\n",
    "    \n",
    "    current_value = data[metric].head(1).iloc[0]\n",
    "\n",
    "    if current_value < low or current_value > high:\n",
    "        alert = True\n",
    "    else:\n",
    "        alert = False\n",
    "    \n",
    "    \n",
    "    mean_val = data[metric].mean()\n",
    "    \n",
    "    \n",
    "    \n",
    "    if alert:\n",
    "    \n",
    "        if current_value<low: \n",
    "            direction = 'вниз'\n",
    "        else: \n",
    "            direction = 'вверх'\n",
    "        \n",
    "        msg = f'''\n",
    "        Метрика {metric}. \n",
    "        Текущее значение {current_value}. \n",
    "        Отклонение от среднего более {round(abs((current_value-mean_val)/mean_val)*100,2)}% {direction}.\n",
    "        '''\n",
    "        \n",
    "        if chart:\n",
    "            msg = msg+f'''Ссылка на риалтайм чарт в BI: {chart}'''\n",
    "        \n",
    "        if dashbord:\n",
    "            msg = msg+f'''\\n\\tСсылка на риалтайм дашборд в BI: {dashbord}'''\n",
    "        \n",
    "        \n",
    "        bot = telegram.Bot(token = os.environ.get(\"bot_token\"))\n",
    "        chat_id = os.environ.get(\"chat_id\")\n",
    "        \n",
    "        sns.lineplot(data=data.iloc[:,:280], x='time', y=metric)\n",
    "        plt.xticks([])\n",
    "        plt.title(f'{metric} за последние сутки')\n",
    "        \n",
    "\n",
    "        plot_object = io.BytesIO() \n",
    "        plt.savefig(plot_object)\n",
    "        \n",
    "        plot_object.name = 'alert_report.png'\n",
    "        \n",
    "        plot_object.seek(0)\n",
    "        plt.close()\n",
    "\n",
    "\n",
    "        bot.sendMessage(chat_id=chat_id, text=msg)\n",
    "        \n",
    "        bot.sendPhoto(chat_id=chat_id, photo=plot_object)\n",
    "\n",
    "    else:\n",
    "        print(current_time, metric, \n",
    "              'low bound: ',round(float(low),2), \n",
    "              'upper bound: ',round(float(high),2), \n",
    "              'mean value: ',round(float(mean_val),2), \n",
    "              'current value: ',round(float(current_value),2))\n",
    "        \n",
    "\n",
    "# количество пользователей лентой\n",
    "try:\n",
    "    query = '''\n",
    "        SELECT \n",
    "            toStartOfInterval(toDateTime(time), INTERVAL 15 minute) AS time,\n",
    "            count(DISTINCT user_id) AS feed_active_users\n",
    "        FROM \n",
    "            {db}.feed_actions\n",
    "        WHERE     \n",
    "            time >=  today() - INTERVAL 1 month and time < toStartOfInterval(now(), INTERVAL 15 minute)\n",
    "        GROUP BY \n",
    "            time\n",
    "        ORDER BY \n",
    "            time DESC\n",
    "    '''\n",
    "\n",
    "    chart = 'http://superset.lab/r/982'\n",
    "    dashbord = 'https://superset.lab/superset/dashboard/734/'\n",
    "\n",
    "    is_alert(query, 'feed_active_users', chart, dashbord)\n",
    "\n",
    "except Exception as e:\n",
    "    print(e)\n",
    "    \n",
    "    \n",
    "    \n",
    "# кол-во лайков, просмотров и ctr    \n",
    "try:\n",
    "    query = '''\n",
    "        SELECT \n",
    "           time time,\n",
    "           SUMIf(cnt_actions, action ='like') feed_likes,\n",
    "           SUMIf(cnt_actions, action ='view') feed_views,\n",
    "           feed_likes/feed_views feed_ctr\n",
    "       FROM\n",
    "         (SELECT \n",
    "            toStartOfInterval(time, INTERVAL 15 minute) time,\n",
    "            action,\n",
    "            count(action) cnt_actions\n",
    "          FROM {db}.feed_actions\n",
    "          WHERE \n",
    "                time >=  today() - INTERVAL 1 month \n",
    "                and time < toStartOfInterval(now(), INTERVAL 15 minute)\n",
    "          group by time,\n",
    "                   action\n",
    "          ORDER BY time desc)\n",
    "       GROUP BY time\n",
    "       ORDER BY time desc\n",
    "    '''\n",
    "\n",
    "    chart = 'http://superset.lab/r/986'\n",
    "    dashbord = 'https://superset.lab/superset/dashboard/734/'\n",
    "\n",
    "    is_alert(query, 'feed_likes',chart,dashbord)\n",
    "\n",
    "    chart = 'http://superset.lab/r/985'\n",
    "    is_alert(query, 'feed_views', chart, dashbord )\n",
    "\n",
    "    chart = 'http://superset.lab/r/987'\n",
    "    is_alert(query, 'feed_ctr',chart, dashbord)\n",
    "\n",
    "except Exception as e:\n",
    "    print(e)\n",
    "    \n",
    "    \n",
    "# кол-во пользователей мессенджера и кол-во отправленных сообщений\n",
    "try:\n",
    "    query = '''\n",
    "        SELECT \n",
    "            toStartOfInterval(toDateTime(time), INTERVAL 15 minute) AS time,\n",
    "            count(DISTINCT user_id) AS message_active_users,\n",
    "            count(user_id) as send_messages\n",
    "        FROM \n",
    "            {db}.message_actions\n",
    "        WHERE     \n",
    "            time >=  today() - INTERVAL 1 month and time < toStartOfInterval(now(), INTERVAL 15 minute)\n",
    "        GROUP BY \n",
    "            time\n",
    "        ORDER BY \n",
    "            time DESC\n",
    "    '''\n",
    "\n",
    "    chart = 'http://superset.lab/r/992'\n",
    "    dashbord = 'http://superset.lab/r/991'\n",
    "\n",
    "    is_alert(query,  'message_active_users', chart, dashbord)\n",
    "\n",
    "\n",
    "    chart = 'http://superset.lab/r/990'\n",
    "    is_alert(query, 'send_messages', chart, dashbord)\n",
    "    \n",
    "except Exception as e:\n",
    "    print(e)"
   ]
  },
  {
   "cell_type": "markdown",
   "id": "3af17844",
   "metadata": {},
   "source": [
    "a yml файл"
   ]
  },
  {
   "cell_type": "code",
   "execution_count": null,
   "id": "d01342a8",
   "metadata": {},
   "outputs": [],
   "source": [
    "image: cr.yandex/crp742p3qacifd2hcon2/practice-da:latest\n",
    "\n",
    "stages:\n",
    "    - scanning\n",
    "\n",
    "job_1:\n",
    "    stage: scanning\n",
    "    only:\n",
    "        - schedules\n",
    "    script:\n",
    "        - python alert_system_v.0.1.py\n"
   ]
  }
 ],
 "metadata": {
  "kernelspec": {
   "display_name": "Python 3 (ipykernel)",
   "language": "python",
   "name": "python3"
  },
  "language_info": {
   "codemirror_mode": {
    "name": "ipython",
    "version": 3
   },
   "file_extension": ".py",
   "mimetype": "text/x-python",
   "name": "python",
   "nbconvert_exporter": "python",
   "pygments_lexer": "ipython3",
   "version": "3.8.10"
  }
 },
 "nbformat": 4,
 "nbformat_minor": 5
}
